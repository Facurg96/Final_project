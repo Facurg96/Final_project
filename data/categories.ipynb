{
 "cells": [
  {
   "cell_type": "code",
   "execution_count": 1,
   "metadata": {},
   "outputs": [],
   "source": [
    "import json\n",
    "\n",
    "jsonData = \"categories.json\"\n",
    "\n",
    "with open(\"categories.json\", 'r') as j:\n",
    "     jsonData = json.loads(j.read())\n",
    "\n",
    "def flat_json_to_tree(jsonData):\n",
    "    root = []\n",
    "    for item in jsonData:\n",
    "        actualTree = root  # [nodes: {}]\n",
    "        for path in item['path']:\n",
    "            currentPath = next(\n",
    "                filter(lambda leaf: leaf['id'] == path['id'], actualTree), None)\n",
    "            if currentPath is None:\n",
    "                currentPath = {\n",
    "                    'id': path['id'],\n",
    "                    'text': path['name'],\n",
    "                    'nodes': []\n",
    "                }\n",
    "                actualTree.append(currentPath)\n",
    "            actualTree = currentPath['nodes']\n",
    "\n",
    "    \n",
    "    return root\n",
    "   \n",
    "def remove_empty_elements(d):\n",
    "    \"\"\"recursively remove empty lists, empty dicts, or None elements from a dictionary\"\"\"\n",
    "\n",
    "    def empty(x):\n",
    "        return x is None or x == {} or x == []\n",
    "\n",
    "    if not isinstance(d, (dict, list)):\n",
    "        return d\n",
    "    elif isinstance(d, list):\n",
    "        return [v for v in (remove_empty_elements(v) for v in d) if not empty(v)]\n",
    "    else:\n",
    "        return {k: v for k, v in ((k, remove_empty_elements(v)) for k, v in d.items()) if not empty(v)}\n",
    "\n",
    "tree_json = flat_json_to_tree(jsonData)\n",
    "tree_json = remove_empty_elements(tree_json)"
   ]
  }
 ],
 "metadata": {
  "kernelspec": {
   "display_name": "Python 3.9.7 ('base')",
   "language": "python",
   "name": "python3"
  },
  "language_info": {
   "codemirror_mode": {
    "name": "ipython",
    "version": 3
   },
   "file_extension": ".py",
   "mimetype": "text/x-python",
   "name": "python",
   "nbconvert_exporter": "python",
   "pygments_lexer": "ipython3",
   "version": "3.9.7"
  },
  "orig_nbformat": 4,
  "vscode": {
   "interpreter": {
    "hash": "ef95759ed471908916b960e9424d3b2a6bdadafec914116c42aa70fd313b111b"
   }
  }
 },
 "nbformat": 4,
 "nbformat_minor": 2
}
