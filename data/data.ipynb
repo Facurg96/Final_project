{
 "cells": [
  {
   "cell_type": "markdown",
   "metadata": {},
   "source": [
    "Data importation:\n",
    "We import the packages needed and the datasets to use"
   ]
  },
  {
   "cell_type": "code",
   "execution_count": 1,
   "metadata": {},
   "outputs": [],
   "source": [
    "import pandas as pd\n",
    "from sklearn.model_selection import train_test_split\n",
    "categories_df=pd.read_json(\"https://raw.githubusercontent.com/anyoneai/e-commerce-open-data-set/master/categories.json\")\n",
    "products=pd.read_json(\"https://raw.githubusercontent.com/anyoneai/e-commerce-open-data-set/master/products.json\")\n"
   ]
  },
  {
   "cell_type": "code",
   "execution_count": 2,
   "metadata": {},
   "outputs": [
    {
     "data": {
      "text/html": [
       "<div>\n",
       "<style scoped>\n",
       "    .dataframe tbody tr th:only-of-type {\n",
       "        vertical-align: middle;\n",
       "    }\n",
       "\n",
       "    .dataframe tbody tr th {\n",
       "        vertical-align: top;\n",
       "    }\n",
       "\n",
       "    .dataframe thead th {\n",
       "        text-align: right;\n",
       "    }\n",
       "</style>\n",
       "<table border=\"1\" class=\"dataframe\">\n",
       "  <thead>\n",
       "    <tr style=\"text-align: right;\">\n",
       "      <th></th>\n",
       "      <th>id</th>\n",
       "      <th>name</th>\n",
       "      <th>path</th>\n",
       "      <th>subCategories</th>\n",
       "    </tr>\n",
       "  </thead>\n",
       "  <tbody>\n",
       "    <tr>\n",
       "      <th>0</th>\n",
       "      <td>abcat0010000</td>\n",
       "      <td>Gift Ideas</td>\n",
       "      <td>[{'id': 'abcat0010000', 'name': 'Gift Ideas'}]</td>\n",
       "      <td>[{'id': 'pcmcat140000050035', 'name': 'Capturi...</td>\n",
       "    </tr>\n",
       "    <tr>\n",
       "      <th>1</th>\n",
       "      <td>abcat0020001</td>\n",
       "      <td>Learning Toys</td>\n",
       "      <td>[{'id': 'abcat0010000', 'name': 'Gift Ideas'},...</td>\n",
       "      <td>[]</td>\n",
       "    </tr>\n",
       "    <tr>\n",
       "      <th>2</th>\n",
       "      <td>abcat0020002</td>\n",
       "      <td>DVD Games</td>\n",
       "      <td>[{'id': 'abcat0010000', 'name': 'Gift Ideas'},...</td>\n",
       "      <td>[]</td>\n",
       "    </tr>\n",
       "    <tr>\n",
       "      <th>3</th>\n",
       "      <td>abcat0020004</td>\n",
       "      <td>Unique Gifts</td>\n",
       "      <td>[{'id': 'abcat0010000', 'name': 'Gift Ideas'},...</td>\n",
       "      <td>[]</td>\n",
       "    </tr>\n",
       "    <tr>\n",
       "      <th>4</th>\n",
       "      <td>abcat0100000</td>\n",
       "      <td>TV &amp; Home Theater</td>\n",
       "      <td>[{'id': 'abcat0100000', 'name': 'TV &amp; Home The...</td>\n",
       "      <td>[{'id': 'abcat0101000', 'name': 'TVs'}, {'id':...</td>\n",
       "    </tr>\n",
       "  </tbody>\n",
       "</table>\n",
       "</div>"
      ],
      "text/plain": [
       "             id               name  \\\n",
       "0  abcat0010000         Gift Ideas   \n",
       "1  abcat0020001      Learning Toys   \n",
       "2  abcat0020002          DVD Games   \n",
       "3  abcat0020004       Unique Gifts   \n",
       "4  abcat0100000  TV & Home Theater   \n",
       "\n",
       "                                                path  \\\n",
       "0     [{'id': 'abcat0010000', 'name': 'Gift Ideas'}]   \n",
       "1  [{'id': 'abcat0010000', 'name': 'Gift Ideas'},...   \n",
       "2  [{'id': 'abcat0010000', 'name': 'Gift Ideas'},...   \n",
       "3  [{'id': 'abcat0010000', 'name': 'Gift Ideas'},...   \n",
       "4  [{'id': 'abcat0100000', 'name': 'TV & Home The...   \n",
       "\n",
       "                                       subCategories  \n",
       "0  [{'id': 'pcmcat140000050035', 'name': 'Capturi...  \n",
       "1                                                 []  \n",
       "2                                                 []  \n",
       "3                                                 []  \n",
       "4  [{'id': 'abcat0101000', 'name': 'TVs'}, {'id':...  "
      ]
     },
     "execution_count": 2,
     "metadata": {},
     "output_type": "execute_result"
    }
   ],
   "source": [
    "categories_df.head(5)"
   ]
  },
  {
   "cell_type": "code",
   "execution_count": 3,
   "metadata": {},
   "outputs": [
    {
     "data": {
      "text/html": [
       "<div>\n",
       "<style scoped>\n",
       "    .dataframe tbody tr th:only-of-type {\n",
       "        vertical-align: middle;\n",
       "    }\n",
       "\n",
       "    .dataframe tbody tr th {\n",
       "        vertical-align: top;\n",
       "    }\n",
       "\n",
       "    .dataframe thead th {\n",
       "        text-align: right;\n",
       "    }\n",
       "</style>\n",
       "<table border=\"1\" class=\"dataframe\">\n",
       "  <thead>\n",
       "    <tr style=\"text-align: right;\">\n",
       "      <th></th>\n",
       "      <th>sku</th>\n",
       "      <th>name</th>\n",
       "      <th>type</th>\n",
       "      <th>price</th>\n",
       "      <th>upc</th>\n",
       "      <th>category</th>\n",
       "      <th>shipping</th>\n",
       "      <th>description</th>\n",
       "      <th>manufacturer</th>\n",
       "      <th>model</th>\n",
       "      <th>url</th>\n",
       "      <th>image</th>\n",
       "    </tr>\n",
       "  </thead>\n",
       "  <tbody>\n",
       "    <tr>\n",
       "      <th>0</th>\n",
       "      <td>43900</td>\n",
       "      <td>Duracell - AAA Batteries (4-Pack)</td>\n",
       "      <td>HardGood</td>\n",
       "      <td>5.49</td>\n",
       "      <td>41333424019</td>\n",
       "      <td>[{'id': 'pcmcat312300050015', 'name': 'Connect...</td>\n",
       "      <td>5.49</td>\n",
       "      <td>Compatible with select electronic devices; AAA...</td>\n",
       "      <td>Duracell</td>\n",
       "      <td>MN2400B4Z</td>\n",
       "      <td>http://www.bestbuy.com/site/duracell-aaa-batte...</td>\n",
       "      <td>http://img.bbystatic.com/BestBuy_US/images/pro...</td>\n",
       "    </tr>\n",
       "    <tr>\n",
       "      <th>1</th>\n",
       "      <td>48530</td>\n",
       "      <td>Duracell - AA 1.5V CopperTop Batteries (4-Pack)</td>\n",
       "      <td>HardGood</td>\n",
       "      <td>5.49</td>\n",
       "      <td>41333415017</td>\n",
       "      <td>[{'id': 'pcmcat312300050015', 'name': 'Connect...</td>\n",
       "      <td>5.49</td>\n",
       "      <td>Long-lasting energy; DURALOCK Power Preserve t...</td>\n",
       "      <td>Duracell</td>\n",
       "      <td>MN1500B4Z</td>\n",
       "      <td>http://www.bestbuy.com/site/duracell-aa-1-5v-c...</td>\n",
       "      <td>http://img.bbystatic.com/BestBuy_US/images/pro...</td>\n",
       "    </tr>\n",
       "    <tr>\n",
       "      <th>2</th>\n",
       "      <td>127687</td>\n",
       "      <td>Duracell - AA Batteries (8-Pack)</td>\n",
       "      <td>HardGood</td>\n",
       "      <td>7.49</td>\n",
       "      <td>41333825014</td>\n",
       "      <td>[{'id': 'pcmcat312300050015', 'name': 'Connect...</td>\n",
       "      <td>5.49</td>\n",
       "      <td>Compatible with select electronic devices; AA ...</td>\n",
       "      <td>Duracell</td>\n",
       "      <td>MN1500B8Z</td>\n",
       "      <td>http://www.bestbuy.com/site/duracell-aa-batter...</td>\n",
       "      <td>http://img.bbystatic.com/BestBuy_US/images/pro...</td>\n",
       "    </tr>\n",
       "    <tr>\n",
       "      <th>3</th>\n",
       "      <td>150115</td>\n",
       "      <td>Energizer - MAX Batteries AA (4-Pack)</td>\n",
       "      <td>HardGood</td>\n",
       "      <td>4.99</td>\n",
       "      <td>39800011329</td>\n",
       "      <td>[{'id': 'pcmcat312300050015', 'name': 'Connect...</td>\n",
       "      <td>5.49</td>\n",
       "      <td>4-pack AA alkaline batteries; battery tester i...</td>\n",
       "      <td>Energizer</td>\n",
       "      <td>E91BP-4</td>\n",
       "      <td>http://www.bestbuy.com/site/energizer-max-batt...</td>\n",
       "      <td>http://img.bbystatic.com/BestBuy_US/images/pro...</td>\n",
       "    </tr>\n",
       "    <tr>\n",
       "      <th>4</th>\n",
       "      <td>185230</td>\n",
       "      <td>Duracell - C Batteries (4-Pack)</td>\n",
       "      <td>HardGood</td>\n",
       "      <td>8.99</td>\n",
       "      <td>41333440019</td>\n",
       "      <td>[{'id': 'pcmcat312300050015', 'name': 'Connect...</td>\n",
       "      <td>5.49</td>\n",
       "      <td>Compatible with select electronic devices; C s...</td>\n",
       "      <td>Duracell</td>\n",
       "      <td>MN1400R4Z</td>\n",
       "      <td>http://www.bestbuy.com/site/duracell-c-batteri...</td>\n",
       "      <td>http://img.bbystatic.com/BestBuy_US/images/pro...</td>\n",
       "    </tr>\n",
       "  </tbody>\n",
       "</table>\n",
       "</div>"
      ],
      "text/plain": [
       "      sku                                             name      type  price  \\\n",
       "0   43900                Duracell - AAA Batteries (4-Pack)  HardGood   5.49   \n",
       "1   48530  Duracell - AA 1.5V CopperTop Batteries (4-Pack)  HardGood   5.49   \n",
       "2  127687                 Duracell - AA Batteries (8-Pack)  HardGood   7.49   \n",
       "3  150115            Energizer - MAX Batteries AA (4-Pack)  HardGood   4.99   \n",
       "4  185230                  Duracell - C Batteries (4-Pack)  HardGood   8.99   \n",
       "\n",
       "           upc                                           category shipping  \\\n",
       "0  41333424019  [{'id': 'pcmcat312300050015', 'name': 'Connect...     5.49   \n",
       "1  41333415017  [{'id': 'pcmcat312300050015', 'name': 'Connect...     5.49   \n",
       "2  41333825014  [{'id': 'pcmcat312300050015', 'name': 'Connect...     5.49   \n",
       "3  39800011329  [{'id': 'pcmcat312300050015', 'name': 'Connect...     5.49   \n",
       "4  41333440019  [{'id': 'pcmcat312300050015', 'name': 'Connect...     5.49   \n",
       "\n",
       "                                         description manufacturer      model  \\\n",
       "0  Compatible with select electronic devices; AAA...     Duracell  MN2400B4Z   \n",
       "1  Long-lasting energy; DURALOCK Power Preserve t...     Duracell  MN1500B4Z   \n",
       "2  Compatible with select electronic devices; AA ...     Duracell  MN1500B8Z   \n",
       "3  4-pack AA alkaline batteries; battery tester i...    Energizer    E91BP-4   \n",
       "4  Compatible with select electronic devices; C s...     Duracell  MN1400R4Z   \n",
       "\n",
       "                                                 url  \\\n",
       "0  http://www.bestbuy.com/site/duracell-aaa-batte...   \n",
       "1  http://www.bestbuy.com/site/duracell-aa-1-5v-c...   \n",
       "2  http://www.bestbuy.com/site/duracell-aa-batter...   \n",
       "3  http://www.bestbuy.com/site/energizer-max-batt...   \n",
       "4  http://www.bestbuy.com/site/duracell-c-batteri...   \n",
       "\n",
       "                                               image  \n",
       "0  http://img.bbystatic.com/BestBuy_US/images/pro...  \n",
       "1  http://img.bbystatic.com/BestBuy_US/images/pro...  \n",
       "2  http://img.bbystatic.com/BestBuy_US/images/pro...  \n",
       "3  http://img.bbystatic.com/BestBuy_US/images/pro...  \n",
       "4  http://img.bbystatic.com/BestBuy_US/images/pro...  "
      ]
     },
     "execution_count": 3,
     "metadata": {},
     "output_type": "execute_result"
    }
   ],
   "source": [
    "products.head(5)"
   ]
  },
  {
   "cell_type": "markdown",
   "metadata": {},
   "source": [
    "We will set the features to be the X from now and the labels to be the y"
   ]
  },
  {
   "cell_type": "code",
   "execution_count": 4,
   "metadata": {},
   "outputs": [],
   "source": [
    "import numpy as np\n",
    "from sklearn.preprocessing import OrdinalEncoder\n",
    "\n",
    "new_category_list=[]\n",
    "for x in products.category:\n",
    "    new_category_list.append(list(x[-1].values())[1])\n",
    "\n",
    "products.category=new_category_list\n",
    "y = products.category\n",
    "enc = OrdinalEncoder(dtype='int')\n",
    "y = np.array(y)\n",
    "enc.fit(y.reshape(-1,1))\n",
    "aux = enc.transform(y.reshape(-1,1))\n",
    "aux=pd.DataFrame(aux)\n",
    "\n",
    "new_categories=[]\n",
    "threshold=32\n",
    "values=aux.value_counts().values\n",
    "indexes=aux.value_counts().index\n",
    "\n",
    "for x,y in zip(indexes,values):\n",
    "    if y > threshold:\n",
    "        new_categories.append(x[0])\n",
    "    else:\n",
    "        new_categories.append('other')\n",
    "\n",
    "new_y=[]\n",
    "for category in aux.values:\n",
    "    if category[0] in new_categories:\n",
    "        new_y.append(category[0])\n",
    "    else:\n",
    "        new_y.append('other')\n",
    "\n",
    "X = products.drop(['category'], axis=1)\n",
    "y = new_y\n",
    "X_train, X_test, y_train, y_test = train_test_split(X, y,test_size=0.3, random_state=42)"
   ]
  },
  {
   "cell_type": "code",
   "execution_count": 5,
   "metadata": {},
   "outputs": [
    {
     "data": {
      "text/plain": [
       "array(['Alkaline Batteries', 'Specialty Batteries',\n",
       "       'Dash Installation Kits', 'Deck Harnesses', 'Antennas & Adapters',\n",
       "       'Cordless Phone Batteries', 'Car Subwoofers',\n",
       "       'Sound Recording Software', 'Music Memorabilia',\n",
       "       'Keyboard Accessories', 'More Pop Culture Merchandise',\n",
       "       'Audio Interfaces', 'Microphones', 'DJ Equipment Accessories',\n",
       "       'Recording & Music Stands', 'Sheet Music', 'Wii Games',\n",
       "       'DSLR Body & Lens', 'Xbox 360 Games', 'Action Camcorder Mounts',\n",
       "       'DJ Lighting & Effects', 'Battery Backup (UPS)', 'Pre-Owned Games',\n",
       "       'Powersports Audio', 'Monitor & Video Cables', 'Cooktops',\n",
       "       'All Headphones', 'Coffee Pods', 'Single-Serve Blenders',\n",
       "       'Upright Freezers', 'Projector Screens', 'Power Supplies',\n",
       "       'Hair Dryers', 'Over-Ear Headphones', 'Accessories',\n",
       "       'Nintendo DS Games', 'PCI Express Graphics Cards', 'PS3 Games',\n",
       "       'TV Mounts', 'Condenser', 'Prime Lenses',\n",
       "       'Laptop Chargers & Adapters', 'Window Air Conditioners',\n",
       "       'Hair Straighteners', 'Multi-Cup Coffee Makers',\n",
       "       'Cell Phone Cases & Clips', 'iPhone Cases & Clips',\n",
       "       'Portable Chargers/Power Packs', 'Polarizing Filters', 'Irons',\n",
       "       'Printer Ink', 'All Flat-Panel TVs', 'Computer Speakers',\n",
       "       'Cases, Covers & Keyboard Folios', 'iPhone 6 Cases',\n",
       "       'Electric Griddles & Hotplates', 'Corded Telephones',\n",
       "       'Wireless & Multiroom Components', 'All Memory Cards',\n",
       "       'All Refrigerators', 'Composite Video Cables',\n",
       "       'Instrument Instructional Books', 'Interfaces & Converters',\n",
       "       'More Car Accessories', 'Universal Remote Controls',\n",
       "       'All Microwaves', 'Electric Dryers', 'Gas Dryers', 'Toaster Ovens',\n",
       "       'Blood Pressure Monitors', 'Bluetooth & Wireless Speakers',\n",
       "       'All Monitors', 'Handheld & Stick Vacuums', 'Camera Batteries',\n",
       "       '3D Printer Filament', 'Screen Protectors',\n",
       "       'Commercial & Garage Vacuums', 'Heaters', 'Ice Makers',\n",
       "       'Humidifiers', 'Coffee Pod Racks & Storage',\n",
       "       'Food Preparation Utensils', 'PC Games',\n",
       "       'Single-Serve Coffee Makers', 'Toasters',\n",
       "       'Replacement Parts & Accessories',\n",
       "       'Slow Cookers, Crock Pots & Roaster Ovens', 'Deep Fryers',\n",
       "       'Rice Cookers', 'Waffle Makers', 'Gas Grills', 'Cookware',\n",
       "       'Grill Accessories', 'Trimmers', 'Curling Irons', 'All TV Stands',\n",
       "       'Front-Loading Washers', 'Adapters, Cables & Chargers',\n",
       "       'Microphone Accessories', 'Electric Espresso Machines',\n",
       "       'Double Ovens', 'Scales', 'Wired & USB Keyboards',\n",
       "       'Top-Freezer Refrigerators', 'All Tablets', 'In-Dash with DVD',\n",
       "       'All Unlocked Cell Phones', 'Speaker Wall Mounts',\n",
       "       'All No-Contract Phones', 'Lens Caps', 'Activity Tracker Bands',\n",
       "       'Receivers', 'Gas Ranges', 'Toner', 'Built-In Dishwashers',\n",
       "       'Earbud & In-Ear Headphones', 'Filters & Accessories',\n",
       "       'Wireless Headphones', 'Systems', 'Internal Hard Drives',\n",
       "       'Power Amps', 'Wall Chargers & Power Adapters', 'Stylus Pens',\n",
       "       'Fitness & GPS Watches', 'Floor Speakers',\n",
       "       'Center-Channel Speakers', 'Electric Ranges', 'Projectors',\n",
       "       'Food Processors', 'Hand Blenders', 'Stand Mixers',\n",
       "       'Air Purifiers', 'Universal Camera Bags & Cases',\n",
       "       'Mouse & Wrist Pads', 'All Car Stereo Receivers', 'Smartwatches',\n",
       "       'Wireless & Bluetooth Mice', 'Gaming Headsets',\n",
       "       'Ethernet Hubs & Switches', 'Air Purifier Filters & Parts',\n",
       "       'Electric Guitars', 'Sound Bars', 'Smart Light Bulbs',\n",
       "       'All Point & Shoot Cameras', 'All Mirrorless Cameras', 'PS4 Games',\n",
       "       'Cutlery', 'Electric Tea Kettles', 'Hand Mixers',\n",
       "       'Wall Mount Range Hoods', 'Rechargeable Batteries',\n",
       "       'Refrigerator Water Filters', 'Laptop Batteries',\n",
       "       'Remote Controls', 'Long-Range Zoom Lenses', 'Mirrorless Lenses',\n",
       "       'Vacuum & Floor Tools', 'Xbox One Games', 'Electric Fireplaces',\n",
       "       'PC Range Extenders', 'Internal Batteries', \"Men's Shavers\",\n",
       "       'Hewlett-Packard', 'Table & Portable Fans', 'Cases',\n",
       "       'Portable Air Conditioners', 'Outdoor Speakers',\n",
       "       'Speaker Cables & Wire', 'In-Wall Speakers',\n",
       "       'In-Wall Speaker Accessories', 'Home Theater Networking',\n",
       "       'In-Ceiling Speakers', 'HDMI Cables', 'Bookshelf Speakers',\n",
       "       'Acoustic Guitars', 'Shredders', 'Microwave Trim Kits',\n",
       "       'Chest Freezers', 'Side-by-Side Refrigerators',\n",
       "       'Sheet Music & DVDs', 'Clocks', 'Subwoofer Speakers',\n",
       "       'Nintendo 3DS Games', 'TV Stands', 'Cell Phone Batteries & Power',\n",
       "       'Language Learning Software', 'Instant Print Cameras',\n",
       "       'Car Chargers', 'Popcorn Makers', 'Toys to Life',\n",
       "       'Activity Trackers & Pedometers', 'Media Cabinets',\n",
       "       'USB Flash Drives', 'Baby Monitors', 'Tower & Pedestal Fans',\n",
       "       'Cleaning Solutions', 'USB Cables & Hubs',\n",
       "       'All Cell Phones with Plans', 'Musical Instrument Cables',\n",
       "       'Portable GPS', 'Security Camera Systems', 'Laptop Bags & Cases',\n",
       "       'Car Electronics Professional Installation',\n",
       "       'Camcorder Batteries & Power', '6.5\" Car Speakers',\n",
       "       'Wireless Routers', 'Binoculars', 'Safes', 'Spotting Scopes',\n",
       "       'Amplifiers', 'Charcoal Grills', 'On-Ear Headphones',\n",
       "       'Short-Range Zoom Lenses', 'Surge Protectors', 'TV Antennas',\n",
       "       'LED Monitors', 'Camera Backpacks', 'Security Cameras',\n",
       "       'CD/DVD Duplicators', 'Xbox One Controllers',\n",
       "       'Science & Discovery', 'Tripods & Monopods', 'Tripods',\n",
       "       'Speaker Cables', '3D Printers & Filament', 'Chromebooks',\n",
       "       'Pressure Cookers', 'Electric Toothbrushes',\n",
       "       'Car Lights & Lighting Accessories', 'Full-Size Blenders',\n",
       "       'DSLR Flashes', 'Flash Accessories', 'Top-Loading Washers',\n",
       "       'Stereo Shelf Systems', 'MP3 Player Cables', 'A/V Switchers',\n",
       "       'Xbox One Headsets', 'Bakeware', 'Vacuum Filters', 'Wii U Games',\n",
       "       'Studio Headphones', 'Home Office Desks', 'Prepaid Minutes',\n",
       "       'All Desktops', 'External Hard Drives', 'Water Bottles',\n",
       "       'Robot Vacuums', 'Refurbished Laptops', 'Telescopes',\n",
       "       'Car Security & Remote Start Accessories', 'Desktop Memory',\n",
       "       'Upright Vacuums', 'Solid State Drives',\n",
       "       'French Door Refrigerators', 'Acoustical Treatments', 'Wall Art',\n",
       "       'Loaded Enclosures', 'Subwoofer Enclosures', 'Specialty Lenses',\n",
       "       'Camera Straps', 'Specialty Gift Cards', 'Camera Mounts',\n",
       "       'Office Chairs', 'Computer Headsets', 'Single Ovens',\n",
       "       'iPhone 6 Plus Cases', 'iPhone Accessories', 'Guitar Stands',\n",
       "       'All-In-One Printers', 'Hard Drives & Storage', 'iPad',\n",
       "       'Best Buy Gift Cards', 'Turntables & Accessories',\n",
       "       'Portable Keyboards', 'Ottomans', 'Data Cables',\n",
       "       'Compact Refrigerators', 'Black & White Laser Printers',\n",
       "       'Digital Camera Accessories', 'Wine Refrigerators & Coolers',\n",
       "       'Dehumidifiers', 'PC Laptops', 'Musical Instruments',\n",
       "       'Photo-Quality Paper', 'Desks',\n",
       "       'Bluetooth & Wireless Speaker Accessories', 'Keyboards',\n",
       "       'File Cabinets & Storage', 'Camera Chargers & Adapters',\n",
       "       'Cell Phone Mounts', 'All-In-One Inkjet Printers',\n",
       "       'iPhone Screen Protectors', 'Signal Boosters',\n",
       "       'Coffee & Travel Mugs', '4K Ultra HD TVs',\n",
       "       'All Camera Accessories', 'Live Sound Accessories',\n",
       "       'Smartwatch Bands', 'Guitar Strings', 'Radios',\n",
       "       'Fiber Optic Cables', 'Magnolia TV Stands, Mounts & Furniture',\n",
       "       'Luggage', 'Home Theater Seating', 'Smart Door Locks', 'Fire Pits',\n",
       "       'Outdoor Fireplaces', 'Live Sound Speaker Systems', 'Pedals',\n",
       "       'Selfie-Sticks', 'Car Audio Installation Parts', 'MP Exclusives',\n",
       "       'Multi-Channel Amps', 'Disney Infinity', 'Casino Games & Machines',\n",
       "       'Ballistic', 'Appliance & Outlet Control', 'Living Room Furniture',\n",
       "       'Mono Subwoofer Amps', 'Outdoor Dining Sets', 'Outdoor Chairs',\n",
       "       'Outdoor Sofas', 'Headphones', 'Acoustic Drums & Sets',\n",
       "       'Action Camcorder Accessories', 'Fireplace Accessories',\n",
       "       'Camera Bags & Cases', 'Apple Watch Bands & Straps',\n",
       "       'Apple Watch Cases', 'Virtual Reality-Ready Computers',\n",
       "       'Drink & Soda Mixes', 'Skylanders', 'iPad & Tablet Accessories',\n",
       "       'Amiibo', 'Network Cables', 'Musical Instrument Accessories',\n",
       "       'Drone Parts', 'iPhone', 'Refurbished Phones', 'Outdoor Lighting',\n",
       "       'Bar Stools', 'Pub Tables', 'Dart Board Cabinets',\n",
       "       'iPhone 6s Plus Cases', 'iPhone 6s Cases', 'Outdoor Heating',\n",
       "       'Skylight & UV Filters', 'Ceiling Fans', 'Pool Balls & Racks',\n",
       "       'Neutral Density Filters', 'Outdoor Furniture Sets'], dtype='<U41')"
      ]
     },
     "execution_count": 5,
     "metadata": {},
     "output_type": "execute_result"
    }
   ],
   "source": [
    "categories_list=[]\n",
    "for category in new_y:\n",
    "    if type(category)!=str:\n",
    "        label=enc.categories_[0][category]\n",
    "        if label not in categories_list:\n",
    "            categories_list.append(label)\n",
    "import numpy as np\n",
    "np.set_printoptions(threshold=sys.maxsize)\n",
    "np.array(categories_list)"
   ]
  },
  {
   "cell_type": "code",
   "execution_count": 6,
   "metadata": {},
   "outputs": [],
   "source": [
    "import pickle\n",
    "pickle.dump(enc, open(b\"encoder.pkl\",\"wb\"))\n"
   ]
  },
  {
   "cell_type": "markdown",
   "metadata": {},
   "source": [
    "Now we create some classes to be used as esential parts in a future pipeline in the file Utils.py"
   ]
  },
  {
   "cell_type": "code",
   "execution_count": 7,
   "metadata": {},
   "outputs": [
    {
     "name": "stderr",
     "output_type": "stream",
     "text": [
      "[nltk_data] Downloading package punkt to\n",
      "[nltk_data]     C:\\Users\\frodr\\AppData\\Roaming\\nltk_data...\n",
      "[nltk_data]   Package punkt is already up-to-date!\n",
      "[nltk_data] Downloading package wordnet to\n",
      "[nltk_data]     C:\\Users\\frodr\\AppData\\Roaming\\nltk_data...\n",
      "[nltk_data]   Package wordnet is already up-to-date!\n",
      "[nltk_data] Downloading package stopwords to\n",
      "[nltk_data]     C:\\Users\\frodr\\AppData\\Roaming\\nltk_data...\n",
      "[nltk_data]   Package stopwords is already up-to-date!\n"
     ]
    },
    {
     "data": {
      "text/plain": [
       "True"
      ]
     },
     "execution_count": 7,
     "metadata": {},
     "output_type": "execute_result"
    }
   ],
   "source": [
    "import nltk\n",
    "nltk.download(\"punkt\")\n",
    "nltk.download(\"wordnet\")\n",
    "nltk.download(\"stopwords\")"
   ]
  },
  {
   "cell_type": "markdown",
   "metadata": {},
   "source": [
    "### We create the definitive pipeline for preprocessing"
   ]
  },
  {
   "cell_type": "code",
   "execution_count": 8,
   "metadata": {},
   "outputs": [],
   "source": [
    "\n",
    "import pandas as pd\n",
    "import seaborn as sns\n",
    "import numpy as np\n",
    "import matplotlib.pyplot as plt\n",
    "from sklearn.preprocessing import LabelEncoder, OneHotEncoder, StandardScaler, MinMaxScaler, OrdinalEncoder\n",
    "from utils import Word2VecProcessor, FastTextProcessor, DropColumns, ColumnExtractor, MyOneHotEncoding, NameDescriptionImputation, NameDescriptionNormalization, TfidfVectorizerTransformer, OrdinalEncoding\n",
    "pd.options.mode.chained_assignment = None\n",
    "import pickle\n",
    "\n",
    "# Transformers\n",
    "from sklearn.preprocessing import LabelEncoder, OneHotEncoder, StandardScaler, MinMaxScaler\n",
    "\n",
    "# Modeling Evaluation\n",
    "from sklearn.model_selection import train_test_split, cross_val_score, KFold, GridSearchCV\n",
    "from sklearn.metrics import accuracy_score, precision_score, recall_score,f1_score, confusion_matrix, classification_report\n",
    "from IPython.display import display, Markdown\n",
    "\n",
    "# Pipelines\n",
    "from sklearn.pipeline import Pipeline, FeatureUnion\n",
    "from sklearn.base import BaseEstimator, TransformerMixin\n",
    "from sklearn.compose import ColumnTransformer\n",
    "from sklearn.impute import SimpleImputer\n",
    "\n",
    "#liraries for NLP\n",
    "import os\n",
    "import sys\n",
    "# I had some issues importing files\n",
    "# This is how I addressed them:\n",
    "cwd = os.getcwd()\n",
    "add = \"/\".join(cwd.split(\"/\")[:-1])\n",
    "sys.path.append(add)\n",
    "\n",
    "from text_normalizer import normalize_corpus\n",
    "from sklearn.feature_extraction.text import TfidfVectorizer\n",
    "\n",
    "\n",
    "COLS_TO_DROP = ['sku','upc', 'shipping','manufacturer', 'model', 'url', 'image']\n",
    "pipe = Pipeline([\n",
    "    ('drop columns', DropColumns(COLS_TO_DROP)),\n",
    "    ('features', FeatureUnion([\n",
    "        ('price', Pipeline([\n",
    "            ('extract', ColumnExtractor([\"price\"])),\n",
    "            ('imputation', SimpleImputer(strategy=\"mean\")),\n",
    "            ('scaler', StandardScaler())\n",
    "        ])),\n",
    "        ('type', Pipeline([\n",
    "            ('extract', ColumnExtractor([\"type\"])),\n",
    "            ('imputation', SimpleImputer(strategy=\"most_frequent\")),\n",
    "            ('ohe', OneHotEncoder(drop='first'))\n",
    "        ])),\n",
    "        ('name and description', Pipeline([\n",
    "            ('extract', ColumnExtractor([\"name\",\"description\"])),#\"description\"])),\n",
    "            ('imputation', NameDescriptionImputation()),\n",
    "            ('text normalizer', NameDescriptionNormalization()),    \n",
    "            ('text vectorizer', TfidfVectorizerTransformer())\n",
    "        ]))\n",
    "    ]))\n",
    "])\n",
    "\n",
    "\n",
    "pipe_name = Pipeline([\n",
    "        ('name and description', Pipeline([\n",
    "            ('extract', ColumnExtractor([\"name\",\"description\"])),#\"description\"])),\n",
    "            ('imputation', NameDescriptionImputation()),\n",
    "            ('text normalizer', NameDescriptionNormalization()),    \n",
    "            #('text word2vec', Word2VecProcessor()) #('text vectorizer', TfidfVectorizerTransformer())\n",
    "            ('text vectorizer', TfidfVectorizerTransformer())\n",
    "        ]))\n",
    "])\n",
    "\n",
    "pipeline_for_predict=Pipeline([\n",
    "        ('name and description', Pipeline([\n",
    "            ('imputation', NameDescriptionImputation()),\n",
    "            ('text normalizer', NameDescriptionNormalization()),    \n",
    "            ('text vectorizer', TfidfVectorizerTransformer())\n",
    "        ]))\n",
    "])"
   ]
  },
  {
   "cell_type": "markdown",
   "metadata": {},
   "source": [
    "### We test it"
   ]
  },
  {
   "cell_type": "code",
   "execution_count": 9,
   "metadata": {},
   "outputs": [],
   "source": [
    "pipe_name.fit(X_train, y_train)\n",
    "\n",
    "X_train1=pipe_name.transform(X_train)\n",
    "X_test1=pipe_name.transform(X_test)\n",
    "\n",
    "#pipeline_for_predict.fit(X_train, y_train)"
   ]
  },
  {
   "cell_type": "code",
   "execution_count": 10,
   "metadata": {},
   "outputs": [
    {
     "data": {
      "text/plain": [
       "<1x14827 sparse matrix of type '<class 'numpy.float64'>'\n",
       "\twith 1 stored elements in Compressed Sparse Row format>"
      ]
     },
     "execution_count": 10,
     "metadata": {},
     "output_type": "execute_result"
    }
   ],
   "source": [
    "a={'name':'AA Bateries','description':'Bateries for all uses'}\n",
    "test = pd.DataFrame([a])\n",
    "test\n",
    "pipe_name.transform(test)"
   ]
  },
  {
   "cell_type": "markdown",
   "metadata": {},
   "source": [
    "### Now we export the pipeline using Pickle library"
   ]
  },
  {
   "cell_type": "code",
   "execution_count": 11,
   "metadata": {},
   "outputs": [],
   "source": [
    "import pickle\n",
    "filehandler = open(b\"pipeline_name.pkl\",\"wb\")\n",
    "pickle.dump(pipe_name,filehandler)"
   ]
  },
  {
   "cell_type": "code",
   "execution_count": 12,
   "metadata": {},
   "outputs": [],
   "source": [
    "pipe.fit_transform(X_train, y_train)\n",
    "\n",
    "X_train=pipe.transform(X_train)\n",
    "X_test=pipe.transform(X_test)"
   ]
  },
  {
   "cell_type": "markdown",
   "metadata": {},
   "source": [
    "### Now we try different models to get a first Baseline Model"
   ]
  },
  {
   "cell_type": "markdown",
   "metadata": {},
   "source": [
    "#### Random Forest"
   ]
  },
  {
   "cell_type": "code",
   "execution_count": 13,
   "metadata": {},
   "outputs": [],
   "source": [
    "\n",
    "from sklearn.ensemble import RandomForestClassifier\n",
    "\n",
    "labels=list(enc.get_params())\n",
    "\n",
    "cl_rf = RandomForestClassifier(n_jobs=-1)\n",
    "cl_rf.fit(X_train1, y_train)\n",
    "y_preds = cl_rf.predict(X_test1)\n",
    "y_probas=cl_rf.predict_proba(X_test1)\n",
    "f1_score(y_test, y_preds, average=\"weighted\")\n",
    "micro=f1_score(y_test, y_preds, average=None)\n"
   ]
  },
  {
   "cell_type": "code",
   "execution_count": 14,
   "metadata": {},
   "outputs": [
    {
     "data": {
      "text/plain": [
       "0.8334349873405688"
      ]
     },
     "execution_count": 14,
     "metadata": {},
     "output_type": "execute_result"
    }
   ],
   "source": [
    "f1_score(y_test, y_preds, average=\"weighted\")"
   ]
  },
  {
   "cell_type": "markdown",
   "metadata": {},
   "source": [
    "#### K Neighbors"
   ]
  },
  {
   "cell_type": "code",
   "execution_count": null,
   "metadata": {},
   "outputs": [
    {
     "name": "stdout",
     "output_type": "stream",
     "text": [
      "0.7372579233423867\n"
     ]
    }
   ],
   "source": [
    "from sklearn.neighbors import KNeighborsClassifier\n",
    "KNN_model = KNeighborsClassifier(n_neighbors=3).fit(X_train1, y_train)\n",
    "KNN_pred = KNN_model.predict(X_test1)  \n",
    "print(f1_score(y_test, KNN_pred, average=\"weighted\"))"
   ]
  },
  {
   "cell_type": "code",
   "execution_count": null,
   "metadata": {},
   "outputs": [],
   "source": [
    "proba=KNN_model.predict_proba(X_test1)"
   ]
  },
  {
   "cell_type": "code",
   "execution_count": null,
   "metadata": {},
   "outputs": [
    {
     "data": {
      "text/plain": [
       "array(['other', '881', '101', ..., '400', '1427', '997'], dtype='<U11')"
      ]
     },
     "execution_count": 20,
     "metadata": {},
     "output_type": "execute_result"
    }
   ],
   "source": [
    "pickle.dump(KNN_model,open(b\"KNN_model.pkl\",\"wb\"))"
   ]
  },
  {
   "cell_type": "markdown",
   "metadata": {},
   "source": [
    "#### Linear SVM"
   ]
  },
  {
   "cell_type": "code",
   "execution_count": 16,
   "metadata": {},
   "outputs": [
    {
     "name": "stderr",
     "output_type": "stream",
     "text": [
      "c:\\Users\\frodr\\anaconda3\\lib\\site-packages\\sklearn\\svm\\_base.py:1225: ConvergenceWarning: Liblinear failed to converge, increase the number of iterations.\n",
      "  warnings.warn(\n"
     ]
    },
    {
     "data": {
      "text/plain": [
       "0.7891845551398722"
      ]
     },
     "execution_count": 16,
     "metadata": {},
     "output_type": "execute_result"
    }
   ],
   "source": [
    "from sklearn.svm import LinearSVC\n",
    "svm_model = LinearSVC(max_iter=3000).fit(X_train1, y_train)\n",
    "svm_pred = svm_model.predict(X_test1)  \n",
    "f1_score(y_test, svm_pred, average=\"weighted\")"
   ]
  }
 ],
 "metadata": {
  "kernelspec": {
   "display_name": "Python 3.9.7 ('base')",
   "language": "python",
   "name": "python3"
  },
  "language_info": {
   "codemirror_mode": {
    "name": "ipython",
    "version": 3
   },
   "file_extension": ".py",
   "mimetype": "text/x-python",
   "name": "python",
   "nbconvert_exporter": "python",
   "pygments_lexer": "ipython3",
   "version": "3.9.7"
  },
  "orig_nbformat": 4,
  "vscode": {
   "interpreter": {
    "hash": "ef95759ed471908916b960e9424d3b2a6bdadafec914116c42aa70fd313b111b"
   }
  }
 },
 "nbformat": 4,
 "nbformat_minor": 2
}
