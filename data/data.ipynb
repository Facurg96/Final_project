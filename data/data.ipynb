{
 "cells": [
  {
   "cell_type": "markdown",
   "metadata": {},
   "source": [
    "Data importation:\n",
    "We import the packages needed and the datasets to use"
   ]
  },
  {
   "cell_type": "code",
   "execution_count": 5,
   "metadata": {},
   "outputs": [],
   "source": [
    "import pandas as pd\n",
    "from sklearn.model_selection import train_test_split\n",
    "categories_df=pd.read_json(\"categories.json\")\n",
    "products=pd.read_json(\"products.json\")"
   ]
  },
  {
   "cell_type": "code",
   "execution_count": 6,
   "metadata": {},
   "outputs": [
    {
     "data": {
      "text/html": [
       "<div>\n",
       "<style scoped>\n",
       "    .dataframe tbody tr th:only-of-type {\n",
       "        vertical-align: middle;\n",
       "    }\n",
       "\n",
       "    .dataframe tbody tr th {\n",
       "        vertical-align: top;\n",
       "    }\n",
       "\n",
       "    .dataframe thead th {\n",
       "        text-align: right;\n",
       "    }\n",
       "</style>\n",
       "<table border=\"1\" class=\"dataframe\">\n",
       "  <thead>\n",
       "    <tr style=\"text-align: right;\">\n",
       "      <th></th>\n",
       "      <th>id</th>\n",
       "      <th>name</th>\n",
       "      <th>path</th>\n",
       "      <th>subCategories</th>\n",
       "    </tr>\n",
       "  </thead>\n",
       "  <tbody>\n",
       "    <tr>\n",
       "      <th>0</th>\n",
       "      <td>abcat0010000</td>\n",
       "      <td>Gift Ideas</td>\n",
       "      <td>[{'id': 'abcat0010000', 'name': 'Gift Ideas'}]</td>\n",
       "      <td>[{'id': 'pcmcat140000050035', 'name': 'Capturi...</td>\n",
       "    </tr>\n",
       "    <tr>\n",
       "      <th>1</th>\n",
       "      <td>abcat0020001</td>\n",
       "      <td>Learning Toys</td>\n",
       "      <td>[{'id': 'abcat0010000', 'name': 'Gift Ideas'},...</td>\n",
       "      <td>[]</td>\n",
       "    </tr>\n",
       "    <tr>\n",
       "      <th>2</th>\n",
       "      <td>abcat0020002</td>\n",
       "      <td>DVD Games</td>\n",
       "      <td>[{'id': 'abcat0010000', 'name': 'Gift Ideas'},...</td>\n",
       "      <td>[]</td>\n",
       "    </tr>\n",
       "    <tr>\n",
       "      <th>3</th>\n",
       "      <td>abcat0020004</td>\n",
       "      <td>Unique Gifts</td>\n",
       "      <td>[{'id': 'abcat0010000', 'name': 'Gift Ideas'},...</td>\n",
       "      <td>[]</td>\n",
       "    </tr>\n",
       "    <tr>\n",
       "      <th>4</th>\n",
       "      <td>abcat0100000</td>\n",
       "      <td>TV &amp; Home Theater</td>\n",
       "      <td>[{'id': 'abcat0100000', 'name': 'TV &amp; Home The...</td>\n",
       "      <td>[{'id': 'abcat0101000', 'name': 'TVs'}, {'id':...</td>\n",
       "    </tr>\n",
       "  </tbody>\n",
       "</table>\n",
       "</div>"
      ],
      "text/plain": [
       "             id               name  \\\n",
       "0  abcat0010000         Gift Ideas   \n",
       "1  abcat0020001      Learning Toys   \n",
       "2  abcat0020002          DVD Games   \n",
       "3  abcat0020004       Unique Gifts   \n",
       "4  abcat0100000  TV & Home Theater   \n",
       "\n",
       "                                                path  \\\n",
       "0     [{'id': 'abcat0010000', 'name': 'Gift Ideas'}]   \n",
       "1  [{'id': 'abcat0010000', 'name': 'Gift Ideas'},...   \n",
       "2  [{'id': 'abcat0010000', 'name': 'Gift Ideas'},...   \n",
       "3  [{'id': 'abcat0010000', 'name': 'Gift Ideas'},...   \n",
       "4  [{'id': 'abcat0100000', 'name': 'TV & Home The...   \n",
       "\n",
       "                                       subCategories  \n",
       "0  [{'id': 'pcmcat140000050035', 'name': 'Capturi...  \n",
       "1                                                 []  \n",
       "2                                                 []  \n",
       "3                                                 []  \n",
       "4  [{'id': 'abcat0101000', 'name': 'TVs'}, {'id':...  "
      ]
     },
     "execution_count": 6,
     "metadata": {},
     "output_type": "execute_result"
    }
   ],
   "source": [
    "categories_df.head(5)"
   ]
  },
  {
   "cell_type": "code",
   "execution_count": 7,
   "metadata": {},
   "outputs": [
    {
     "data": {
      "text/html": [
       "<div>\n",
       "<style scoped>\n",
       "    .dataframe tbody tr th:only-of-type {\n",
       "        vertical-align: middle;\n",
       "    }\n",
       "\n",
       "    .dataframe tbody tr th {\n",
       "        vertical-align: top;\n",
       "    }\n",
       "\n",
       "    .dataframe thead th {\n",
       "        text-align: right;\n",
       "    }\n",
       "</style>\n",
       "<table border=\"1\" class=\"dataframe\">\n",
       "  <thead>\n",
       "    <tr style=\"text-align: right;\">\n",
       "      <th></th>\n",
       "      <th>sku</th>\n",
       "      <th>name</th>\n",
       "      <th>type</th>\n",
       "      <th>price</th>\n",
       "      <th>upc</th>\n",
       "      <th>category</th>\n",
       "      <th>shipping</th>\n",
       "      <th>description</th>\n",
       "      <th>manufacturer</th>\n",
       "      <th>model</th>\n",
       "      <th>url</th>\n",
       "      <th>image</th>\n",
       "    </tr>\n",
       "  </thead>\n",
       "  <tbody>\n",
       "    <tr>\n",
       "      <th>0</th>\n",
       "      <td>43900</td>\n",
       "      <td>Duracell - AAA Batteries (4-Pack)</td>\n",
       "      <td>HardGood</td>\n",
       "      <td>5.49</td>\n",
       "      <td>41333424019</td>\n",
       "      <td>[{'id': 'pcmcat312300050015', 'name': 'Connect...</td>\n",
       "      <td>5.49</td>\n",
       "      <td>Compatible with select electronic devices; AAA...</td>\n",
       "      <td>Duracell</td>\n",
       "      <td>MN2400B4Z</td>\n",
       "      <td>http://www.bestbuy.com/site/duracell-aaa-batte...</td>\n",
       "      <td>http://img.bbystatic.com/BestBuy_US/images/pro...</td>\n",
       "    </tr>\n",
       "    <tr>\n",
       "      <th>1</th>\n",
       "      <td>48530</td>\n",
       "      <td>Duracell - AA 1.5V CopperTop Batteries (4-Pack)</td>\n",
       "      <td>HardGood</td>\n",
       "      <td>5.49</td>\n",
       "      <td>41333415017</td>\n",
       "      <td>[{'id': 'pcmcat312300050015', 'name': 'Connect...</td>\n",
       "      <td>5.49</td>\n",
       "      <td>Long-lasting energy; DURALOCK Power Preserve t...</td>\n",
       "      <td>Duracell</td>\n",
       "      <td>MN1500B4Z</td>\n",
       "      <td>http://www.bestbuy.com/site/duracell-aa-1-5v-c...</td>\n",
       "      <td>http://img.bbystatic.com/BestBuy_US/images/pro...</td>\n",
       "    </tr>\n",
       "    <tr>\n",
       "      <th>2</th>\n",
       "      <td>127687</td>\n",
       "      <td>Duracell - AA Batteries (8-Pack)</td>\n",
       "      <td>HardGood</td>\n",
       "      <td>7.49</td>\n",
       "      <td>41333825014</td>\n",
       "      <td>[{'id': 'pcmcat312300050015', 'name': 'Connect...</td>\n",
       "      <td>5.49</td>\n",
       "      <td>Compatible with select electronic devices; AA ...</td>\n",
       "      <td>Duracell</td>\n",
       "      <td>MN1500B8Z</td>\n",
       "      <td>http://www.bestbuy.com/site/duracell-aa-batter...</td>\n",
       "      <td>http://img.bbystatic.com/BestBuy_US/images/pro...</td>\n",
       "    </tr>\n",
       "    <tr>\n",
       "      <th>3</th>\n",
       "      <td>150115</td>\n",
       "      <td>Energizer - MAX Batteries AA (4-Pack)</td>\n",
       "      <td>HardGood</td>\n",
       "      <td>4.99</td>\n",
       "      <td>39800011329</td>\n",
       "      <td>[{'id': 'pcmcat312300050015', 'name': 'Connect...</td>\n",
       "      <td>5.49</td>\n",
       "      <td>4-pack AA alkaline batteries; battery tester i...</td>\n",
       "      <td>Energizer</td>\n",
       "      <td>E91BP-4</td>\n",
       "      <td>http://www.bestbuy.com/site/energizer-max-batt...</td>\n",
       "      <td>http://img.bbystatic.com/BestBuy_US/images/pro...</td>\n",
       "    </tr>\n",
       "    <tr>\n",
       "      <th>4</th>\n",
       "      <td>185230</td>\n",
       "      <td>Duracell - C Batteries (4-Pack)</td>\n",
       "      <td>HardGood</td>\n",
       "      <td>8.99</td>\n",
       "      <td>41333440019</td>\n",
       "      <td>[{'id': 'pcmcat312300050015', 'name': 'Connect...</td>\n",
       "      <td>5.49</td>\n",
       "      <td>Compatible with select electronic devices; C s...</td>\n",
       "      <td>Duracell</td>\n",
       "      <td>MN1400R4Z</td>\n",
       "      <td>http://www.bestbuy.com/site/duracell-c-batteri...</td>\n",
       "      <td>http://img.bbystatic.com/BestBuy_US/images/pro...</td>\n",
       "    </tr>\n",
       "  </tbody>\n",
       "</table>\n",
       "</div>"
      ],
      "text/plain": [
       "      sku                                             name      type  price  \\\n",
       "0   43900                Duracell - AAA Batteries (4-Pack)  HardGood   5.49   \n",
       "1   48530  Duracell - AA 1.5V CopperTop Batteries (4-Pack)  HardGood   5.49   \n",
       "2  127687                 Duracell - AA Batteries (8-Pack)  HardGood   7.49   \n",
       "3  150115            Energizer - MAX Batteries AA (4-Pack)  HardGood   4.99   \n",
       "4  185230                  Duracell - C Batteries (4-Pack)  HardGood   8.99   \n",
       "\n",
       "           upc                                           category shipping  \\\n",
       "0  41333424019  [{'id': 'pcmcat312300050015', 'name': 'Connect...     5.49   \n",
       "1  41333415017  [{'id': 'pcmcat312300050015', 'name': 'Connect...     5.49   \n",
       "2  41333825014  [{'id': 'pcmcat312300050015', 'name': 'Connect...     5.49   \n",
       "3  39800011329  [{'id': 'pcmcat312300050015', 'name': 'Connect...     5.49   \n",
       "4  41333440019  [{'id': 'pcmcat312300050015', 'name': 'Connect...     5.49   \n",
       "\n",
       "                                         description manufacturer      model  \\\n",
       "0  Compatible with select electronic devices; AAA...     Duracell  MN2400B4Z   \n",
       "1  Long-lasting energy; DURALOCK Power Preserve t...     Duracell  MN1500B4Z   \n",
       "2  Compatible with select electronic devices; AA ...     Duracell  MN1500B8Z   \n",
       "3  4-pack AA alkaline batteries; battery tester i...    Energizer    E91BP-4   \n",
       "4  Compatible with select electronic devices; C s...     Duracell  MN1400R4Z   \n",
       "\n",
       "                                                 url  \\\n",
       "0  http://www.bestbuy.com/site/duracell-aaa-batte...   \n",
       "1  http://www.bestbuy.com/site/duracell-aa-1-5v-c...   \n",
       "2  http://www.bestbuy.com/site/duracell-aa-batter...   \n",
       "3  http://www.bestbuy.com/site/energizer-max-batt...   \n",
       "4  http://www.bestbuy.com/site/duracell-c-batteri...   \n",
       "\n",
       "                                               image  \n",
       "0  http://img.bbystatic.com/BestBuy_US/images/pro...  \n",
       "1  http://img.bbystatic.com/BestBuy_US/images/pro...  \n",
       "2  http://img.bbystatic.com/BestBuy_US/images/pro...  \n",
       "3  http://img.bbystatic.com/BestBuy_US/images/pro...  \n",
       "4  http://img.bbystatic.com/BestBuy_US/images/pro...  "
      ]
     },
     "execution_count": 7,
     "metadata": {},
     "output_type": "execute_result"
    }
   ],
   "source": [
    "products.head(5)"
   ]
  },
  {
   "cell_type": "markdown",
   "metadata": {},
   "source": [
    "We will set the features to be the X from now and the labels to be the y"
   ]
  },
  {
   "cell_type": "code",
   "execution_count": 8,
   "metadata": {},
   "outputs": [],
   "source": [
    "import numpy as np\n",
    "from sklearn.preprocessing import OrdinalEncoder\n",
    "\n",
    "new_category_list=[]\n",
    "for x in products.category:\n",
    "    new_category_list.append(list(x[-1].values())[1])\n",
    "\n",
    "products.category=new_category_list\n",
    "y = products.category\n",
    "enc = OrdinalEncoder(dtype='int')\n",
    "y = np.array(y)\n",
    "enc.fit(y.reshape(-1,1))\n",
    "aux = enc.transform(y.reshape(-1,1))\n",
    "aux=pd.DataFrame(aux)\n",
    "\n",
    "new_categories=[]\n",
    "threshold=32\n",
    "values=aux.value_counts().values\n",
    "indexes=aux.value_counts().index\n",
    "\n",
    "for x,y in zip(indexes,values):\n",
    "    if y > threshold:\n",
    "        new_categories.append(x[0])\n",
    "    else:\n",
    "        new_categories.append('other')\n",
    "\n",
    "new_y=[]\n",
    "for category in aux.values:\n",
    "    if category[0] in new_categories:\n",
    "        new_y.append(category[0])\n",
    "    else:\n",
    "        new_y.append('other')\n",
    "\n",
    "X = products.drop(['category'], axis=1)\n",
    "y = new_y\n",
    "X_train, X_test, y_train, y_test = train_test_split(X, y,test_size=0.3, random_state=42)"
   ]
  },
  {
   "cell_type": "markdown",
   "metadata": {},
   "source": [
    "Now we create some classes to be used as esential parts in a future pipeline"
   ]
  },
  {
   "cell_type": "code",
   "execution_count": 9,
   "metadata": {},
   "outputs": [
    {
     "name": "stderr",
     "output_type": "stream",
     "text": [
      "[nltk_data] Downloading package punkt to /home/facurg96/nltk_data...\n",
      "[nltk_data]   Package punkt is already up-to-date!\n",
      "[nltk_data] Downloading package wordnet to /home/facurg96/nltk_data...\n",
      "[nltk_data]   Package wordnet is already up-to-date!\n",
      "[nltk_data] Downloading package stopwords to\n",
      "[nltk_data]     /home/facurg96/nltk_data...\n",
      "[nltk_data]   Package stopwords is already up-to-date!\n"
     ]
    },
    {
     "data": {
      "text/plain": [
       "True"
      ]
     },
     "execution_count": 9,
     "metadata": {},
     "output_type": "execute_result"
    }
   ],
   "source": [
    "import nltk\n",
    "nltk.download(\"punkt\")\n",
    "nltk.download(\"wordnet\")\n",
    "nltk.download(\"stopwords\")"
   ]
  },
  {
   "cell_type": "code",
   "execution_count": null,
   "metadata": {},
   "outputs": [
    {
     "name": "stderr",
     "output_type": "stream",
     "text": [
      "/usr/lib/python3/dist-packages/OpenSSL/crypto.py:12: CryptographyDeprecationWarning: Python 3.6 is no longer supported by the Python core team. Therefore, support for it is deprecated in cryptography and will be removed in a future release.\n",
      "  from cryptography import x509\n"
     ]
    }
   ],
   "source": [
    "from sklearn.base import BaseEstimator, TransformerMixin\n",
    "import numpy as np\n",
    "from gensim.models import Word2Vec, KeyedVectors, FastText, Doc2Vec\n",
    "from sklearn.preprocessing import LabelEncoder, OneHotEncoder, StandardScaler, MinMaxScaler, OrdinalEncoder\n",
    "from sklearn.feature_extraction.text import TfidfVectorizer\n",
    "from text_normalizer import normalize_corpus\n",
    "\n",
    "\n",
    "class Word2VecProcessor(TransformerMixin):\n",
    "    def fit(self, X, y=None):\n",
    "        model_w2v = Word2Vec(X, vector_size=100, workers=6, epochs=50, min_count=1)  \n",
    "        model_w2v.save('w2vec_model.txt')\n",
    "        \n",
    "        return self\n",
    "\n",
    "    def transform(self, X):\n",
    "        model = Word2Vec.load('w2vec_model.txt')\n",
    "        corpus_vectors=[]\n",
    "        for element in X:\n",
    "            main_vector=np.zeros([100,],)\n",
    "            for word in element:\n",
    "                sub_vector=model.wv[word]\n",
    "                main_vector=main_vector+ sub_vector\n",
    "            main_vector=main_vector/len(element)\n",
    "            corpus_vectors.append(main_vector)\n",
    "        return corpus_vectors\n",
    "\n",
    "class FastTextProcessor(TransformerMixin):\n",
    "    def fit(self, X, y=None):\n",
    "        model_ft = FastText(X, vector_size=100, workers=6, epochs=50, min_count=1)  \n",
    "        model_ft.save('fasttext_model.txt')\n",
    "        \n",
    "        return self\n",
    "\n",
    "    def transform(self, X):\n",
    "        model = FastText.load('fasttext_model.txt')\n",
    "        corpus_vectors=[]\n",
    "        for element in X:\n",
    "            main_vector=np.zeros([100,],)\n",
    "            for word in element:\n",
    "                sub_vector=model.wv[word]\n",
    "                main_vector=main_vector+ sub_vector\n",
    "            main_vector=main_vector/len(element)\n",
    "            corpus_vectors.append(main_vector)\n",
    "        return corpus_vectors\n",
    "\n",
    "\n",
    "class DropColumns(TransformerMixin):\n",
    "    \"\"\"This Transformer, receives a list of column names\n",
    "    as a parameter, which are the columns to be dropped.\"\"\"\n",
    "    def __init__(self, cols_to_drop):\n",
    "        self.cols_to_drop = cols_to_drop\n",
    "    def transform(self, X):\n",
    "        return X.drop(self.cols_to_drop, axis=1)\n",
    "\n",
    "    def fit(self, X, y=None):\n",
    "        return self\n",
    "\n",
    "class ColumnExtractor(TransformerMixin):\n",
    "    def __init__(self, columns):\n",
    "        self.columns = columns\n",
    "    def transform(self, X):\n",
    "        return X[self.columns]\n",
    "\n",
    "    def fit(self, X, y=None):\n",
    "        return self\n",
    "class MyOneHotEncoding(TransformerMixin):\n",
    "    def transform(self, X):\n",
    "        return pd.DataFrame(self.ohe.transform(X), columns = self.ohe_categories)\n",
    "\n",
    "    def fit(self, X, y=None):\n",
    "        self.ohe = OneHotEncoder(sparse=False).fit(X)\n",
    "        self.ohe_categories = self.ohe.categories_\n",
    "        return self \n",
    "        \n",
    "class NameDescriptionImputation(TransformerMixin):\n",
    "    def transform(self, X):\n",
    "        #X[\"name\"] = X[\"name\"].fillna(X[\"description\"])\n",
    "        X[\"name\"] = X[\"name\"].fillna(\"UNK\")\n",
    "        #X[\"description\"] = X[\"description\"].fillna(\"UNK\")\n",
    "        return X\n",
    "\n",
    "    def fit(self, X_param, y=None):\n",
    "        return self\n",
    "\n",
    "class NameDescriptionNormalization(TransformerMixin):\n",
    "    def transform(self, X):\n",
    "        X[\"name\"] = normalize_corpus(list(X[\"name\"]))\n",
    "        #X[\"description\"] = normalize_corpus(list(X[\"description\"]))\n",
    "        return X\n",
    "\n",
    "    def fit(self, X, y=None):\n",
    "        return self\n",
    "\n",
    "class TfidfVectorizerTransformer(TransformerMixin):\n",
    "    def transform(self, X):\n",
    "        return self.tfidf.transform(list(X.iloc[:,0]))\n",
    "\n",
    "    def fit(self, X, y=None):\n",
    "        self.tfidf = TfidfVectorizer(norm=None).fit(list(X.iloc[:,0]))\n",
    "        return self\n",
    "\n",
    "class OrdinalEncoding(TransformerMixin):\n",
    "    def fit(self, X, y=None):\n",
    "        self.enc = OrdinalEncoder(dtype='int')\n",
    "        self.enc.fit(X)\n",
    "        return self\n",
    "    \n",
    "    def transform(self, X):\n",
    "        aux = []\n",
    "        X = np.array(X)\n",
    "        X = X.reshape(-1,1)\n",
    "        aux = self.enc.transform(X)\n",
    "        #aux.value_counts()\n",
    "        return aux"
   ]
  },
  {
   "cell_type": "code",
   "execution_count": null,
   "metadata": {},
   "outputs": [],
   "source": [
    "import pandas as pd\n",
    "import seaborn as sns\n",
    "import numpy as np\n",
    "import matplotlib.pyplot as plt\n",
    "pd.options.mode.chained_assignment = None\n",
    "import pickle\n",
    "\n",
    "# Transformers\n",
    "from sklearn.preprocessing import LabelEncoder, OneHotEncoder, StandardScaler, MinMaxScaler\n",
    "\n",
    "# Modeling Evaluation\n",
    "from sklearn.model_selection import train_test_split, cross_val_score, KFold, GridSearchCV\n",
    "from sklearn.metrics import accuracy_score, precision_score, recall_score,f1_score, confusion_matrix, classification_report\n",
    "from IPython.display import display, Markdown\n",
    "\n",
    "# Pipelines\n",
    "from sklearn.pipeline import Pipeline, FeatureUnion\n",
    "from sklearn.base import BaseEstimator, TransformerMixin\n",
    "from sklearn.compose import ColumnTransformer\n",
    "from sklearn.impute import SimpleImputer\n",
    "\n",
    "#liraries for NLP\n",
    "import os\n",
    "import sys\n",
    "# I had some issues importing files\n",
    "# This is how I addressed them:\n",
    "cwd = os.getcwd()\n",
    "add = \"/\".join(cwd.split(\"/\")[:-1])\n",
    "sys.path.append(add)\n",
    "\n",
    "from text_normalizer import normalize_corpus\n",
    "from sklearn.feature_extraction.text import TfidfVectorizer\n",
    "\n",
    "\n",
    "COLS_TO_DROP = ['sku','upc', 'shipping','manufacturer', 'model', 'url', 'image']\n",
    "pipe = Pipeline([\n",
    "    ('drop columns', DropColumns(COLS_TO_DROP)),\n",
    "    ('features', FeatureUnion([\n",
    "        ('price', Pipeline([\n",
    "            ('extract', ColumnExtractor([\"price\"])),\n",
    "            ('imputation', SimpleImputer(strategy=\"mean\")),\n",
    "            ('scaler', StandardScaler())\n",
    "        ])),\n",
    "        ('type', Pipeline([\n",
    "            ('extract', ColumnExtractor([\"type\"])),\n",
    "            ('imputation', SimpleImputer(strategy=\"most_frequent\")),\n",
    "            ('ohe', OneHotEncoder(drop='first'))\n",
    "        ])),\n",
    "        ('name and description', Pipeline([\n",
    "            ('extract', ColumnExtractor([\"name\",\"description\"])),#\"description\"])),\n",
    "            ('imputation', NameDescriptionImputation()),\n",
    "            ('text normalizer', NameDescriptionNormalization()),    \n",
    "            ('text vectorizer', TfidfVectorizerTransformer())\n",
    "        ]))\n",
    "    ]))\n",
    "])\n",
    "\n",
    "\n",
    "pipe_name = Pipeline([\n",
    "        ('name and description', Pipeline([\n",
    "            ('extract', ColumnExtractor([\"name\",])),#\"description\"])),\n",
    "            ('imputation', NameDescriptionImputation()),\n",
    "            ('text normalizer', NameDescriptionNormalization()),    \n",
    "            #('text word2vec', Word2VecProcessor()) #('text vectorizer', TfidfVectorizerTransformer())\n",
    "            ('text vectorizer', TfidfVectorizerTransformer())\n",
    "        ]))\n",
    "])"
   ]
  },
  {
   "cell_type": "code",
   "execution_count": null,
   "metadata": {},
   "outputs": [
    {
     "name": "stderr",
     "output_type": "stream",
     "text": [
      "/home/facurg96/.local/lib/python3.6/site-packages/bs4/__init__.py:439: MarkupResemblesLocatorWarning: The input looks more like a filename than markup. You may want to open this file and pass the filehandle into Beautiful Soup.\n",
      "  MarkupResemblesLocatorWarning\n",
      "/home/facurg96/.local/lib/python3.6/site-packages/bs4/__init__.py:439: MarkupResemblesLocatorWarning: The input looks more like a filename than markup. You may want to open this file and pass the filehandle into Beautiful Soup.\n",
      "  MarkupResemblesLocatorWarning\n",
      "/home/facurg96/.local/lib/python3.6/site-packages/bs4/__init__.py:439: MarkupResemblesLocatorWarning: The input looks more like a filename than markup. You may want to open this file and pass the filehandle into Beautiful Soup.\n",
      "  MarkupResemblesLocatorWarning\n"
     ]
    }
   ],
   "source": [
    "pipe.fit_transform(X_train, y_train)\n",
    "\n",
    "X_train=pipe.transform(X_train)\n",
    "X_test=pipe.transform(X_test)"
   ]
  },
  {
   "cell_type": "code",
   "execution_count": 9,
   "metadata": {},
   "outputs": [],
   "source": [
    "from sklearn.ensemble import RandomForestClassifier\n",
    "import wandb\n",
    "\n",
    "labels=list(enc.get_params())\n",
    "#wandb.init(project=\"my-test-project\")\n",
    "\n",
    "cl_rf = RandomForestClassifier(n_jobs=-1)\n",
    "cl_rf.fit(X_train, y_train)\n",
    "y_preds = cl_rf.predict(X_test)\n",
    "y_probas=cl_rf.predict_proba(X_test)\n",
    "f1_score(y_test, y_preds, average=\"weighted\")\n",
    "micro=f1_score(y_test, y_preds, average=None)\n",
    "\n",
    "#wandb.sklearn.plot_classifier(cl_rf, X_train, X_test, y_train, y_test, y_preds, y_probas,labels=labels, model_name=\"SVC\", feature_names=None)"
   ]
  },
  {
   "cell_type": "code",
   "execution_count": 10,
   "metadata": {},
   "outputs": [
    {
     "data": {
      "text/plain": [
       "array([0.872     , 0.68965517, 0.94      , 0.95      , 0.79032258,\n",
       "       0.94736842, 0.96650718, 0.96551724, 0.88372093, 0.99453552,\n",
       "       0.50406504, 0.67484663, 0.66666667, 0.78787879, 0.8       ,\n",
       "       0.5       , 0.96551724, 0.96296296, 0.96551724, 0.95      ,\n",
       "       0.8440367 , 0.84745763, 0.90909091, 0.6875    , 0.66666667,\n",
       "       0.89655172, 0.65      , 0.99154135, 1.        , 0.76190476,\n",
       "       0.77647059, 0.94117647, 0.80952381, 1.        , 1.        ,\n",
       "       0.9       , 0.875     , 0.88      , 0.81481481, 0.69230769,\n",
       "       0.8       , 0.96551724, 0.89795918, 0.625     , 0.66666667,\n",
       "       0.47058824, 0.88235294, 0.85714286, 1.        , 0.89655172,\n",
       "       0.5       , 0.90410959, 0.92783505, 0.91358025, 0.78431373,\n",
       "       1.        , 0.91428571, 0.85245902, 0.29411765, 0.66666667,\n",
       "       1.        , 0.4       , 0.75      , 0.96969697, 0.61538462,\n",
       "       0.69565217, 0.88888889, 0.86666667, 0.90697674, 0.88      ,\n",
       "       0.76923077, 0.95172414, 0.93333333, 0.7       , 0.83333333,\n",
       "       0.90243902, 0.70588235, 0.8       , 0.88888889, 0.42857143,\n",
       "       0.76190476, 0.33333333, 0.73333333, 0.95652174, 0.78431373,\n",
       "       0.69565217, 0.36363636, 0.8       , 0.81818182, 1.        ,\n",
       "       0.88      , 0.64705882, 0.83783784, 0.9375    , 0.83333333,\n",
       "       0.25      , 0.84745763, 0.88      , 0.92      , 0.86363636,\n",
       "       0.95049505, 0.78857143, 0.4137931 , 1.        , 0.63157895,\n",
       "       0.75949367, 0.73333333, 0.6779661 , 0.11111111, 0.73684211,\n",
       "       0.85714286, 0.98536585, 0.76521739, 0.83333333, 1.        ,\n",
       "       0.93333333, 0.66666667, 0.84848485, 0.92156863, 0.22222222,\n",
       "       0.88372093, 1.        , 0.98412698, 0.81690141, 0.93693694,\n",
       "       0.94117647, 0.55813953, 0.5       , 0.91666667, 0.97297297,\n",
       "       0.55555556, 0.5       , 0.82352941, 0.22222222, 0.45454545,\n",
       "       0.86486486, 0.64      , 0.82170543, 1.        , 0.98550725,\n",
       "       0.86956522, 0.92682927, 0.54545455, 0.76190476, 0.26666667,\n",
       "       0.30769231, 0.76190476, 0.86206897, 0.26315789, 0.90512541,\n",
       "       0.92682927, 1.        , 0.96907216, 0.66666667, 0.95652174,\n",
       "       0.59259259, 0.81481481, 0.90510949, 0.86956522, 1.        ,\n",
       "       1.        , 0.71794872, 0.6       , 0.34782609, 0.44444444,\n",
       "       0.75409836, 0.58333333, 0.16666667, 0.7027027 , 0.77777778,\n",
       "       0.7826087 , 0.75      , 0.93333333, 0.5625    , 0.77333333,\n",
       "       0.76821192, 0.87209302, 0.83333333, 1.        , 0.73015873,\n",
       "       0.93181818, 0.25      , 0.88372093, 0.76923077, 0.94736842,\n",
       "       0.75      , 0.73684211, 0.76190476, 0.70588235, 0.73333333,\n",
       "       0.98550725, 0.69565217, 0.81818182, 0.6       , 0.8       ,\n",
       "       0.375     , 0.66666667, 0.60606061, 0.97647059, 0.92473118,\n",
       "       0.63157895, 0.95      , 0.81481481, 0.64285714, 0.26666667,\n",
       "       0.75409836, 0.75      , 0.23529412, 0.84      , 1.        ,\n",
       "       0.93589744, 0.84615385, 0.88495575, 0.85714286, 1.        ,\n",
       "       0.94736842, 0.22222222, 0.90322581, 0.44444444, 0.58823529,\n",
       "       0.90909091, 0.92682927, 0.96296296, 0.91428571, 0.57142857,\n",
       "       0.375     , 0.90980392, 1.        , 0.8372093 , 0.82051282,\n",
       "       0.79310345, 0.84210526, 0.98522167, 0.93150685, 1.        ,\n",
       "       0.94444444, 0.82857143, 0.88      , 1.        , 0.87850467,\n",
       "       0.81081081, 0.43478261, 0.86956522, 0.90265487, 0.6       ,\n",
       "       0.96428571, 0.75247525, 0.90196078, 0.3       , 0.97435897,\n",
       "       0.86842105, 0.97435897, 0.4       , 0.98360656, 0.8       ,\n",
       "       0.98412698, 0.94      , 0.66666667, 0.94736842, 0.79699248,\n",
       "       0.97297297, 0.7755102 , 0.85      , 0.75      , 0.96774194,\n",
       "       0.88372093, 0.86792453, 0.55172414, 0.70967742, 0.94117647,\n",
       "       0.15384615, 0.92537313, 0.64864865, 0.72      , 0.9010989 ,\n",
       "       0.88235294, 1.        , 0.875     , 0.88135593, 0.61538462,\n",
       "       0.53333333, 0.85      , 0.97435897, 0.76190476, 0.52054795,\n",
       "       0.66666667, 0.87741935, 0.69565217, 0.69565217, 0.625     ,\n",
       "       0.57142857, 0.94736842, 0.81481481, 0.11111111, 1.        ,\n",
       "       0.88321168, 0.98324022, 0.78688525, 0.97297297, 0.90909091,\n",
       "       0.86725664, 0.47619048, 0.66666667, 0.875     , 0.66666667,\n",
       "       0.61111111, 0.88461538, 0.79807692, 0.91666667, 0.44444444,\n",
       "       0.94285714, 0.88172043, 0.75862069, 0.5       , 0.64516129,\n",
       "       0.62068966, 0.5       , 1.        , 0.76190476, 0.55555556,\n",
       "       0.83333333, 0.61111111, 0.98058252, 0.92857143, 0.75471698,\n",
       "       0.53333333, 0.90909091, 0.875     , 0.76190476, 0.76315789,\n",
       "       0.47058824, 0.93333333, 0.22222222, 0.73333333, 0.6557377 ,\n",
       "       1.        , 0.9       , 1.        , 0.81081081, 0.79310345,\n",
       "       0.88288288, 0.99159664, 0.77876106, 0.81363636, 1.        ,\n",
       "       0.71428571, 1.        , 0.83333333, 0.66666667, 0.95238095,\n",
       "       0.83870968, 0.78474859])"
      ]
     },
     "execution_count": 10,
     "metadata": {},
     "output_type": "execute_result"
    }
   ],
   "source": [
    "micro"
   ]
  },
  {
   "cell_type": "code",
   "execution_count": 11,
   "metadata": {},
   "outputs": [
    {
     "name": "stderr",
     "output_type": "stream",
     "text": [
      "/usr/local/lib/python3.6/dist-packages/pkg_resources/__init__.py:119: PkgResourcesDeprecationWarning: 0.18ubuntu0.18.04.1 is an invalid version and will not be supported in a future release\n",
      "  PkgResourcesDeprecationWarning,\n",
      "/home/facurg96/.local/lib/python3.6/site-packages/xgboost/sklearn.py:1224: UserWarning: The use of label encoder in XGBClassifier is deprecated and will be removed in a future release. To remove this warning, do the following: 1) Pass option use_label_encoder=False when constructing XGBClassifier object; and 2) Encode your labels (y) as integers starting with 0, i.e. 0, 1, 2, ..., [num_class - 1].\n",
      "  warnings.warn(label_encoder_deprecation_msg, UserWarning)\n"
     ]
    },
    {
     "name": "stdout",
     "output_type": "stream",
     "text": [
      "[22:05:25] WARNING: ../src/learner.cc:1115: Starting in XGBoost 1.3.0, the default evaluation metric used with the objective 'multi:softprob' was changed from 'merror' to 'mlogloss'. Explicitly set eval_metric if you'd like to restore the old behavior.\n"
     ]
    },
    {
     "name": "stderr",
     "output_type": "stream",
     "text": [
      "/usr/local/lib/python3.6/dist-packages/seaborn/distributions.py:2619: FutureWarning: `distplot` is a deprecated function and will be removed in a future version. Please adapt your code to use either `displot` (a figure-level function with similar flexibility) or `histplot` (an axes-level function for histograms).\n",
      "  warnings.warn(msg, FutureWarning)\n",
      "/usr/local/lib/python3.6/dist-packages/seaborn/distributions.py:316: UserWarning: Dataset has 0 variance; skipping density estimate. Pass `warn_singular=False` to disable this warning.\n",
      "  warnings.warn(msg, UserWarning)\n"
     ]
    },
    {
     "data": {
      "text/plain": [
       "<AxesSubplot:ylabel='Density'>"
      ]
     },
     "execution_count": 11,
     "metadata": {},
     "output_type": "execute_result"
    },
    {
     "data": {
      "image/png": "[encoded data removed]",
      "text/plain": [
       "<Figure size 432x288 with 1 Axes>"
      ]
     },
     "metadata": {
      "needs_background": "light"
     },
     "output_type": "display_data"
    }
   ],
   "source": [
    "import xgboost as xgb\n",
    "\n",
    "bst = xgb.XGBClassifier(n_estimators=2, max_depth=2, learning_rate=1, objective='multi:softprob')\n",
    "# fit model\n",
    "bst.fit(X_train, y_train)\n",
    "# make predictions\n",
    "preds = bst.predict(X_test)\n",
    "f1_score(y_test, preds, average=\"weighted\")\n",
    "micro = f1_score(y_test, preds, average=\"micro\")\n",
    "sns.distplot(micro)"
   ]
  },
  {
   "cell_type": "code",
   "execution_count": 12,
   "metadata": {},
   "outputs": [
    {
     "data": {
      "text/plain": [
       "0.7376066207882696"
      ]
     },
     "execution_count": 12,
     "metadata": {},
     "output_type": "execute_result"
    }
   ],
   "source": [
    "from sklearn.neighbors import KNeighborsClassifier\n",
    "KNN_model = KNeighborsClassifier(n_neighbors=3).fit(X_train, y_train)\n",
    "KNN_pred = KNN_model.predict(X_test)  \n",
    "f1_score(y_test, KNN_pred, average=\"weighted\")"
   ]
  },
  {
   "cell_type": "code",
   "execution_count": 13,
   "metadata": {},
   "outputs": [
    {
     "ename": "KeyboardInterrupt",
     "evalue": "",
     "output_type": "error",
     "traceback": [
      "\u001b[0;31m---------------------------------------------------------------------------\u001b[0m",
      "\u001b[0;31mKeyboardInterrupt\u001b[0m                         Traceback (most recent call last)",
      "\u001b[0;32m<ipython-input-13-6ebe4f12e8e8>\u001b[0m in \u001b[0;36m<module>\u001b[0;34m\u001b[0m\n\u001b[1;32m      1\u001b[0m \u001b[0;32mfrom\u001b[0m \u001b[0msklearn\u001b[0m\u001b[0;34m.\u001b[0m\u001b[0msvm\u001b[0m \u001b[0;32mimport\u001b[0m \u001b[0mLinearSVC\u001b[0m\u001b[0;34m\u001b[0m\u001b[0;34m\u001b[0m\u001b[0m\n\u001b[0;32m----> 2\u001b[0;31m \u001b[0msvm_model\u001b[0m \u001b[0;34m=\u001b[0m \u001b[0mLinearSVC\u001b[0m\u001b[0;34m(\u001b[0m\u001b[0mmax_iter\u001b[0m\u001b[0;34m=\u001b[0m\u001b[0;36m3000\u001b[0m\u001b[0;34m)\u001b[0m\u001b[0;34m.\u001b[0m\u001b[0mfit\u001b[0m\u001b[0;34m(\u001b[0m\u001b[0mX_train\u001b[0m\u001b[0;34m,\u001b[0m \u001b[0my_train\u001b[0m\u001b[0;34m)\u001b[0m\u001b[0;34m\u001b[0m\u001b[0;34m\u001b[0m\u001b[0m\n\u001b[0m\u001b[1;32m      3\u001b[0m \u001b[0msvm_pred\u001b[0m \u001b[0;34m=\u001b[0m \u001b[0msvm_model\u001b[0m\u001b[0;34m.\u001b[0m\u001b[0mpredict\u001b[0m\u001b[0;34m(\u001b[0m\u001b[0mX_test\u001b[0m\u001b[0;34m)\u001b[0m\u001b[0;34m\u001b[0m\u001b[0;34m\u001b[0m\u001b[0m\n\u001b[1;32m      4\u001b[0m \u001b[0mf1_score\u001b[0m\u001b[0;34m(\u001b[0m\u001b[0my_test\u001b[0m\u001b[0;34m,\u001b[0m \u001b[0msvm_pred\u001b[0m\u001b[0;34m,\u001b[0m \u001b[0maverage\u001b[0m\u001b[0;34m=\u001b[0m\u001b[0;34m\"weighted\"\u001b[0m\u001b[0;34m)\u001b[0m\u001b[0;34m\u001b[0m\u001b[0;34m\u001b[0m\u001b[0m\n",
      "\u001b[0;32m/usr/local/lib/python3.6/dist-packages/sklearn/svm/_classes.py\u001b[0m in \u001b[0;36mfit\u001b[0;34m(self, X, y, sample_weight)\u001b[0m\n\u001b[1;32m    236\u001b[0m             \u001b[0mself\u001b[0m\u001b[0;34m.\u001b[0m\u001b[0mclass_weight\u001b[0m\u001b[0;34m,\u001b[0m \u001b[0mself\u001b[0m\u001b[0;34m.\u001b[0m\u001b[0mpenalty\u001b[0m\u001b[0;34m,\u001b[0m \u001b[0mself\u001b[0m\u001b[0;34m.\u001b[0m\u001b[0mdual\u001b[0m\u001b[0;34m,\u001b[0m \u001b[0mself\u001b[0m\u001b[0;34m.\u001b[0m\u001b[0mverbose\u001b[0m\u001b[0;34m,\u001b[0m\u001b[0;34m\u001b[0m\u001b[0;34m\u001b[0m\u001b[0m\n\u001b[1;32m    237\u001b[0m             \u001b[0mself\u001b[0m\u001b[0;34m.\u001b[0m\u001b[0mmax_iter\u001b[0m\u001b[0;34m,\u001b[0m \u001b[0mself\u001b[0m\u001b[0;34m.\u001b[0m\u001b[0mtol\u001b[0m\u001b[0;34m,\u001b[0m \u001b[0mself\u001b[0m\u001b[0;34m.\u001b[0m\u001b[0mrandom_state\u001b[0m\u001b[0;34m,\u001b[0m \u001b[0mself\u001b[0m\u001b[0;34m.\u001b[0m\u001b[0mmulti_class\u001b[0m\u001b[0;34m,\u001b[0m\u001b[0;34m\u001b[0m\u001b[0;34m\u001b[0m\u001b[0m\n\u001b[0;32m--> 238\u001b[0;31m             self.loss, sample_weight=sample_weight)\n\u001b[0m\u001b[1;32m    239\u001b[0m \u001b[0;34m\u001b[0m\u001b[0m\n\u001b[1;32m    240\u001b[0m         \u001b[0;32mif\u001b[0m \u001b[0mself\u001b[0m\u001b[0;34m.\u001b[0m\u001b[0mmulti_class\u001b[0m \u001b[0;34m==\u001b[0m \u001b[0;34m\"crammer_singer\"\u001b[0m \u001b[0;32mand\u001b[0m \u001b[0mlen\u001b[0m\u001b[0;34m(\u001b[0m\u001b[0mself\u001b[0m\u001b[0;34m.\u001b[0m\u001b[0mclasses_\u001b[0m\u001b[0;34m)\u001b[0m \u001b[0;34m==\u001b[0m \u001b[0;36m2\u001b[0m\u001b[0;34m:\u001b[0m\u001b[0;34m\u001b[0m\u001b[0;34m\u001b[0m\u001b[0m\n",
      "\u001b[0;32m/usr/local/lib/python3.6/dist-packages/sklearn/svm/_base.py\u001b[0m in \u001b[0;36m_fit_liblinear\u001b[0;34m(X, y, C, fit_intercept, intercept_scaling, class_weight, penalty, dual, verbose, max_iter, tol, random_state, multi_class, loss, epsilon, sample_weight)\u001b[0m\n\u001b[1;32m    976\u001b[0m         \u001b[0mX\u001b[0m\u001b[0;34m,\u001b[0m \u001b[0my_ind\u001b[0m\u001b[0;34m,\u001b[0m \u001b[0msp\u001b[0m\u001b[0;34m.\u001b[0m\u001b[0misspmatrix\u001b[0m\u001b[0;34m(\u001b[0m\u001b[0mX\u001b[0m\u001b[0;34m)\u001b[0m\u001b[0;34m,\u001b[0m \u001b[0msolver_type\u001b[0m\u001b[0;34m,\u001b[0m \u001b[0mtol\u001b[0m\u001b[0;34m,\u001b[0m \u001b[0mbias\u001b[0m\u001b[0;34m,\u001b[0m \u001b[0mC\u001b[0m\u001b[0;34m,\u001b[0m\u001b[0;34m\u001b[0m\u001b[0;34m\u001b[0m\u001b[0m\n\u001b[1;32m    977\u001b[0m         \u001b[0mclass_weight_\u001b[0m\u001b[0;34m,\u001b[0m \u001b[0mmax_iter\u001b[0m\u001b[0;34m,\u001b[0m \u001b[0mrnd\u001b[0m\u001b[0;34m.\u001b[0m\u001b[0mrandint\u001b[0m\u001b[0;34m(\u001b[0m\u001b[0mnp\u001b[0m\u001b[0;34m.\u001b[0m\u001b[0miinfo\u001b[0m\u001b[0;34m(\u001b[0m\u001b[0;34m'i'\u001b[0m\u001b[0;34m)\u001b[0m\u001b[0;34m.\u001b[0m\u001b[0mmax\u001b[0m\u001b[0;34m)\u001b[0m\u001b[0;34m,\u001b[0m\u001b[0;34m\u001b[0m\u001b[0;34m\u001b[0m\u001b[0m\n\u001b[0;32m--> 978\u001b[0;31m         epsilon, sample_weight)\n\u001b[0m\u001b[1;32m    979\u001b[0m     \u001b[0;31m# Regarding rnd.randint(..) in the above signature:\u001b[0m\u001b[0;34m\u001b[0m\u001b[0;34m\u001b[0m\u001b[0;34m\u001b[0m\u001b[0m\n\u001b[1;32m    980\u001b[0m     \u001b[0;31m# seed for srand in range [0..INT_MAX); due to limitations in Numpy\u001b[0m\u001b[0;34m\u001b[0m\u001b[0;34m\u001b[0m\u001b[0;34m\u001b[0m\u001b[0m\n",
      "\u001b[0;31mKeyboardInterrupt\u001b[0m: "
     ]
    }
   ],
   "source": [
    "from sklearn.svm import LinearSVC\n",
    "svm_model = LinearSVC(max_iter=3000).fit(X_train, y_train)\n",
    "svm_pred = svm_model.predict(X_test)  \n",
    "f1_score(y_test, svm_pred, average=\"weighted\")"
   ]
  },
  {
   "cell_type": "code",
   "execution_count": 14,
   "metadata": {},
   "outputs": [
    {
     "data": {
      "text/plain": [
       "{'bootstrap': True,\n",
       " 'ccp_alpha': 0.0,\n",
       " 'class_weight': None,\n",
       " 'criterion': 'gini',\n",
       " 'max_depth': None,\n",
       " 'max_features': 'auto',\n",
       " 'max_leaf_nodes': None,\n",
       " 'max_samples': None,\n",
       " 'min_impurity_decrease': 0.0,\n",
       " 'min_impurity_split': None,\n",
       " 'min_samples_leaf': 1,\n",
       " 'min_samples_split': 2,\n",
       " 'min_weight_fraction_leaf': 0.0,\n",
       " 'n_estimators': 100,\n",
       " 'n_jobs': -1,\n",
       " 'oob_score': False,\n",
       " 'random_state': None,\n",
       " 'verbose': 0,\n",
       " 'warm_start': False}"
      ]
     },
     "execution_count": 14,
     "metadata": {},
     "output_type": "execute_result"
    }
   ],
   "source": [
    "#Current parameters of Random Forest\n",
    "cl_rf.get_params()\n"
   ]
  },
  {
   "cell_type": "code",
   "execution_count": 25,
   "metadata": {},
   "outputs": [
    {
     "name": "stdout",
     "output_type": "stream",
     "text": [
      "{'n_estimators': [50, 100, 200, 300, 400, 500, 600], 'max_features': ['auto', 'sqrt'], 'max_depth': [1, 2, 5, 10, 20, 50], 'min_samples_split': [1, 2, 5, 10, 20, None], 'min_samples_leaf': [1, 2, 4, None], 'bootstrap': [True, False]}\n"
     ]
    }
   ],
   "source": [
    "\n",
    "from sklearn.model_selection import RandomizedSearchCV\n",
    "# Number of trees in random forest\n",
    "n_estimators = [50,100, 200,300,400,500,600]\n",
    "# Number of features to consider at every split\n",
    "max_features = ['auto', 'sqrt']\n",
    "# Maximum number of levels in tree\n",
    "max_depth = [1,2,5,10,20,50]\n",
    "\n",
    "# Minimum number of samples required to split a node\n",
    "min_samples_split = [1,2, 5, 10, 20, None]\n",
    "# Minimum number of samples required at each leaf node\n",
    "min_samples_leaf = [1, 2, 4, None]\n",
    "# Method of selecting samples for training each tree\n",
    "bootstrap = [True, False]\n",
    "# Create the random grid\n",
    "random_grid = {'n_estimators': n_estimators,\n",
    "               'max_features': max_features,\n",
    "               'max_depth': max_depth,\n",
    "               'min_samples_split': min_samples_split,\n",
    "               'min_samples_leaf': min_samples_leaf,\n",
    "               'bootstrap': bootstrap}\n",
    "\n",
    "print(random_grid)\n"
   ]
  },
  {
   "cell_type": "code",
   "execution_count": 17,
   "metadata": {},
   "outputs": [
    {
     "name": "stdout",
     "output_type": "stream",
     "text": [
      "\n",
      "CPU times: user 186 µs, sys: 5 µs, total: 191 µs\n",
      "Wall time: 144 µs\n"
     ]
    }
   ],
   "source": [
    "\n",
    "%%time\n",
    "print(\"\")"
   ]
  },
  {
   "cell_type": "code",
   "execution_count": 27,
   "metadata": {},
   "outputs": [
    {
     "name": "stdout",
     "output_type": "stream",
     "text": [
      "Fitting 3 folds for each of 40 candidates, totalling 120 fits\n"
     ]
    },
    {
     "name": "stderr",
     "output_type": "stream",
     "text": [
      "/usr/local/lib/python3.6/dist-packages/sklearn/model_selection/_search.py:925: UserWarning: One or more of the test scores are non-finite: [       nan        nan 0.24789807 0.30460283        nan        nan\n",
      " 0.54129781 0.30850306        nan        nan        nan 0.30742416\n",
      "        nan        nan        nan        nan        nan 0.24186735\n",
      "        nan        nan        nan 0.44025229 0.26028979        nan\n",
      "        nan        nan        nan        nan        nan 0.24894908\n",
      "        nan 0.31835038        nan 0.43845421 0.20095707 0.20095707\n",
      " 0.25525511        nan 0.40133318        nan]\n",
      "  category=UserWarning\n"
     ]
    },
    {
     "name": "stdout",
     "output_type": "stream",
     "text": [
      "CPU times: user 1min 57s, sys: 1.36 s, total: 1min 58s\n",
      "Wall time: 13min 30s\n"
     ]
    },
    {
     "data": {
      "text/plain": [
       "RandomizedSearchCV(cv=3, estimator=RandomForestClassifier(), n_iter=40,\n",
       "                   n_jobs=2,\n",
       "                   param_distributions={'bootstrap': [True, False],\n",
       "                                        'max_depth': [1, 2, 5, 10, 20, 50],\n",
       "                                        'max_features': ['auto', 'sqrt'],\n",
       "                                        'min_samples_leaf': [1, 2, 4, None],\n",
       "                                        'min_samples_split': [1, 2, 5, 10, 20,\n",
       "                                                              None],\n",
       "                                        'n_estimators': [50, 100, 200, 300, 400,\n",
       "                                                         500, 600]},\n",
       "                   random_state=42, verbose=2)"
      ]
     },
     "execution_count": 27,
     "metadata": {},
     "output_type": "execute_result"
    }
   ],
   "source": [
    "\n",
    "%%time\n",
    "# Use the random grid to search for best hyperparameters\n",
    "# First create the base model to tune\n",
    "rf = RandomForestClassifier()\n",
    "# Random search of parameters, using 3 fold cross validation, \n",
    "# search across 100 different combinations, and use all available cores\n",
    "rf_random = RandomizedSearchCV(estimator = rf, param_distributions = random_grid, n_iter = 40, cv = 3, verbose=2, random_state=42, n_jobs = 2)\n",
    "# Fit the random search model\n",
    "rf_random.fit(X_train, y_train)"
   ]
  },
  {
   "cell_type": "code",
   "execution_count": 29,
   "metadata": {},
   "outputs": [
    {
     "name": "stdout",
     "output_type": "stream",
     "text": [
      "{'n_estimators': 600, 'min_samples_split': 20, 'min_samples_leaf': 2, 'max_features': 'auto', 'max_depth': 50, 'bootstrap': False}\n"
     ]
    },
    {
     "data": {
      "text/plain": [
       "\"{'bootstrap': True,\\n 'ccp_alpha': 0.0,\\n 'class_weight': None,\\n 'criterion': 'gini',\\n 'max_depth': None,\\n 'max_features': 'auto',\\n 'max_leaf_nodes': None,\\n 'max_samples': None,\\n 'min_impurity_decrease': 0.0,\\n 'min_impurity_split': None,\\n 'min_samples_leaf': 1,\\n 'min_samples_split': 2,\\n 'min_weight_fraction_leaf': 0.0,\\n 'n_estimators': 100,\\n 'n_jobs': -1,\\n 'oob_score': False,\\n 'random_state': None,\\n 'verbose': 0,\\n 'warm_start': False}\""
      ]
     },
     "execution_count": 29,
     "metadata": {},
     "output_type": "execute_result"
    }
   ],
   "source": [
    "print(rf_random.best_params_)\n",
    "\n",
    "\"\"\"{'bootstrap': True,\n",
    " 'ccp_alpha': 0.0,\n",
    " 'class_weight': None,\n",
    " 'criterion': 'gini',\n",
    " 'max_depth': None,\n",
    " 'max_features': 'auto',\n",
    " 'max_leaf_nodes': None,\n",
    " 'max_samples': None,\n",
    " 'min_impurity_decrease': 0.0,\n",
    " 'min_impurity_split': None,\n",
    " 'min_samples_leaf': 1,\n",
    " 'min_samples_split': 2,\n",
    " 'min_weight_fraction_leaf': 0.0,\n",
    " 'n_estimators': 100,\n",
    " 'n_jobs': -1,\n",
    " 'oob_score': False,\n",
    " 'random_state': None,\n",
    " 'verbose': 0,\n",
    " 'warm_start': False}\"\"\""
   ]
  },
  {
   "cell_type": "code",
   "execution_count": 30,
   "metadata": {},
   "outputs": [
    {
     "name": "stdout",
     "output_type": "stream",
     "text": [
      "0.4607957067954689\n"
     ]
    },
    {
     "name": "stderr",
     "output_type": "stream",
     "text": [
      "/usr/local/lib/python3.6/dist-packages/seaborn/distributions.py:2619: FutureWarning: `distplot` is a deprecated function and will be removed in a future version. Please adapt your code to use either `displot` (a figure-level function with similar flexibility) or `histplot` (an axes-level function for histograms).\n",
      "  warnings.warn(msg, FutureWarning)\n"
     ]
    },
    {
     "data": {
      "text/plain": [
       "<AxesSubplot:ylabel='Density'>"
      ]
     },
     "execution_count": 30,
     "metadata": {},
     "output_type": "execute_result"
    },
    {
     "data": {
      "image/png": "[encoded data removed]",
      "text/plain": [
       "<Figure size 432x288 with 1 Axes>"
      ]
     },
     "metadata": {
      "needs_background": "light"
     },
     "output_type": "display_data"
    }
   ],
   "source": [
    "preds = rf_random.predict(X_test)\n",
    "f1=f1_score(y_test, preds, average=\"weighted\")\n",
    "print(f1)\n",
    "micro = f1_score(y_test, preds, average=None)\n",
    "sns.distplot(micro)"
   ]
  },
  {
   "cell_type": "code",
   "execution_count": 33,
   "metadata": {},
   "outputs": [
    {
     "name": "stderr",
     "output_type": "stream",
     "text": [
      "/usr/local/lib/python3.6/dist-packages/joblib/externals/loky/process_executor.py:705: UserWarning: A worker stopped while some jobs were given to the executor. This can be caused by a too short worker timeout or by a memory leak.\n",
      "  \"timeout or by a memory leak.\", UserWarning\n"
     ]
    },
    {
     "ename": "KeyboardInterrupt",
     "evalue": "",
     "output_type": "error",
     "traceback": [
      "\u001b[0;31m---------------------------------------------------------------------------\u001b[0m",
      "\u001b[0;31mKeyboardInterrupt\u001b[0m                         Traceback (most recent call last)",
      "\u001b[0;32m<ipython-input-33-8803bdf24a59>\u001b[0m in \u001b[0;36m<module>\u001b[0;34m\u001b[0m\n\u001b[1;32m      2\u001b[0m \u001b[0;34m\u001b[0m\u001b[0m\n\u001b[1;32m      3\u001b[0m \u001b[0mgs_clf\u001b[0m\u001b[0;34m=\u001b[0m\u001b[0mGridSearchCV\u001b[0m\u001b[0;34m(\u001b[0m\u001b[0mrf\u001b[0m\u001b[0;34m,\u001b[0m\u001b[0mrandom_grid\u001b[0m\u001b[0;34m,\u001b[0m \u001b[0mn_jobs\u001b[0m\u001b[0;34m=\u001b[0m\u001b[0;36m2\u001b[0m\u001b[0;34m)\u001b[0m\u001b[0;34m\u001b[0m\u001b[0;34m\u001b[0m\u001b[0m\n\u001b[0;32m----> 4\u001b[0;31m \u001b[0mgs_clf\u001b[0m\u001b[0;34m.\u001b[0m\u001b[0mfit\u001b[0m\u001b[0;34m(\u001b[0m\u001b[0mX_train\u001b[0m\u001b[0;34m,\u001b[0m \u001b[0my_train\u001b[0m\u001b[0;34m)\u001b[0m\u001b[0;34m\u001b[0m\u001b[0;34m\u001b[0m\u001b[0m\n\u001b[0m",
      "\u001b[0;32m/usr/local/lib/python3.6/dist-packages/sklearn/utils/validation.py\u001b[0m in \u001b[0;36minner_f\u001b[0;34m(*args, **kwargs)\u001b[0m\n\u001b[1;32m     61\u001b[0m             \u001b[0mextra_args\u001b[0m \u001b[0;34m=\u001b[0m \u001b[0mlen\u001b[0m\u001b[0;34m(\u001b[0m\u001b[0margs\u001b[0m\u001b[0;34m)\u001b[0m \u001b[0;34m-\u001b[0m \u001b[0mlen\u001b[0m\u001b[0;34m(\u001b[0m\u001b[0mall_args\u001b[0m\u001b[0;34m)\u001b[0m\u001b[0;34m\u001b[0m\u001b[0;34m\u001b[0m\u001b[0m\n\u001b[1;32m     62\u001b[0m             \u001b[0;32mif\u001b[0m \u001b[0mextra_args\u001b[0m \u001b[0;34m<=\u001b[0m \u001b[0;36m0\u001b[0m\u001b[0;34m:\u001b[0m\u001b[0;34m\u001b[0m\u001b[0;34m\u001b[0m\u001b[0m\n\u001b[0;32m---> 63\u001b[0;31m                 \u001b[0;32mreturn\u001b[0m \u001b[0mf\u001b[0m\u001b[0;34m(\u001b[0m\u001b[0;34m*\u001b[0m\u001b[0margs\u001b[0m\u001b[0;34m,\u001b[0m \u001b[0;34m**\u001b[0m\u001b[0mkwargs\u001b[0m\u001b[0;34m)\u001b[0m\u001b[0;34m\u001b[0m\u001b[0;34m\u001b[0m\u001b[0m\n\u001b[0m\u001b[1;32m     64\u001b[0m \u001b[0;34m\u001b[0m\u001b[0m\n\u001b[1;32m     65\u001b[0m             \u001b[0;31m# extra_args > 0\u001b[0m\u001b[0;34m\u001b[0m\u001b[0;34m\u001b[0m\u001b[0;34m\u001b[0m\u001b[0m\n",
      "\u001b[0;32m/usr/local/lib/python3.6/dist-packages/sklearn/model_selection/_search.py\u001b[0m in \u001b[0;36mfit\u001b[0;34m(self, X, y, groups, **fit_params)\u001b[0m\n\u001b[1;32m    839\u001b[0m                 \u001b[0;32mreturn\u001b[0m \u001b[0mresults\u001b[0m\u001b[0;34m\u001b[0m\u001b[0;34m\u001b[0m\u001b[0m\n\u001b[1;32m    840\u001b[0m \u001b[0;34m\u001b[0m\u001b[0m\n\u001b[0;32m--> 841\u001b[0;31m             \u001b[0mself\u001b[0m\u001b[0;34m.\u001b[0m\u001b[0m_run_search\u001b[0m\u001b[0;34m(\u001b[0m\u001b[0mevaluate_candidates\u001b[0m\u001b[0;34m)\u001b[0m\u001b[0;34m\u001b[0m\u001b[0;34m\u001b[0m\u001b[0m\n\u001b[0m\u001b[1;32m    842\u001b[0m \u001b[0;34m\u001b[0m\u001b[0m\n\u001b[1;32m    843\u001b[0m             \u001b[0;31m# multimetric is determined here because in the case of a callable\u001b[0m\u001b[0;34m\u001b[0m\u001b[0;34m\u001b[0m\u001b[0;34m\u001b[0m\u001b[0m\n",
      "\u001b[0;32m/usr/local/lib/python3.6/dist-packages/sklearn/model_selection/_search.py\u001b[0m in \u001b[0;36m_run_search\u001b[0;34m(self, evaluate_candidates)\u001b[0m\n\u001b[1;32m   1294\u001b[0m     \u001b[0;32mdef\u001b[0m \u001b[0m_run_search\u001b[0m\u001b[0;34m(\u001b[0m\u001b[0mself\u001b[0m\u001b[0;34m,\u001b[0m \u001b[0mevaluate_candidates\u001b[0m\u001b[0;34m)\u001b[0m\u001b[0;34m:\u001b[0m\u001b[0;34m\u001b[0m\u001b[0;34m\u001b[0m\u001b[0m\n\u001b[1;32m   1295\u001b[0m         \u001b[0;34m\"\"\"Search all candidates in param_grid\"\"\"\u001b[0m\u001b[0;34m\u001b[0m\u001b[0;34m\u001b[0m\u001b[0m\n\u001b[0;32m-> 1296\u001b[0;31m         \u001b[0mevaluate_candidates\u001b[0m\u001b[0;34m(\u001b[0m\u001b[0mParameterGrid\u001b[0m\u001b[0;34m(\u001b[0m\u001b[0mself\u001b[0m\u001b[0;34m.\u001b[0m\u001b[0mparam_grid\u001b[0m\u001b[0;34m)\u001b[0m\u001b[0;34m)\u001b[0m\u001b[0;34m\u001b[0m\u001b[0;34m\u001b[0m\u001b[0m\n\u001b[0m\u001b[1;32m   1297\u001b[0m \u001b[0;34m\u001b[0m\u001b[0m\n\u001b[1;32m   1298\u001b[0m \u001b[0;34m\u001b[0m\u001b[0m\n",
      "\u001b[0;32m/usr/local/lib/python3.6/dist-packages/sklearn/model_selection/_search.py\u001b[0m in \u001b[0;36mevaluate_candidates\u001b[0;34m(candidate_params, cv, more_results)\u001b[0m\n\u001b[1;32m    807\u001b[0m                                    (split_idx, (train, test)) in product(\n\u001b[1;32m    808\u001b[0m                                    \u001b[0menumerate\u001b[0m\u001b[0;34m(\u001b[0m\u001b[0mcandidate_params\u001b[0m\u001b[0;34m)\u001b[0m\u001b[0;34m,\u001b[0m\u001b[0;34m\u001b[0m\u001b[0;34m\u001b[0m\u001b[0m\n\u001b[0;32m--> 809\u001b[0;31m                                    enumerate(cv.split(X, y, groups))))\n\u001b[0m\u001b[1;32m    810\u001b[0m \u001b[0;34m\u001b[0m\u001b[0m\n\u001b[1;32m    811\u001b[0m                 \u001b[0;32mif\u001b[0m \u001b[0mlen\u001b[0m\u001b[0;34m(\u001b[0m\u001b[0mout\u001b[0m\u001b[0;34m)\u001b[0m \u001b[0;34m<\u001b[0m \u001b[0;36m1\u001b[0m\u001b[0;34m:\u001b[0m\u001b[0;34m\u001b[0m\u001b[0;34m\u001b[0m\u001b[0m\n",
      "\u001b[0;32m/usr/local/lib/python3.6/dist-packages/joblib/parallel.py\u001b[0m in \u001b[0;36m__call__\u001b[0;34m(self, iterable)\u001b[0m\n\u001b[1;32m   1054\u001b[0m \u001b[0;34m\u001b[0m\u001b[0m\n\u001b[1;32m   1055\u001b[0m             \u001b[0;32mwith\u001b[0m \u001b[0mself\u001b[0m\u001b[0;34m.\u001b[0m\u001b[0m_backend\u001b[0m\u001b[0;34m.\u001b[0m\u001b[0mretrieval_context\u001b[0m\u001b[0;34m(\u001b[0m\u001b[0;34m)\u001b[0m\u001b[0;34m:\u001b[0m\u001b[0;34m\u001b[0m\u001b[0;34m\u001b[0m\u001b[0m\n\u001b[0;32m-> 1056\u001b[0;31m                 \u001b[0mself\u001b[0m\u001b[0;34m.\u001b[0m\u001b[0mretrieve\u001b[0m\u001b[0;34m(\u001b[0m\u001b[0;34m)\u001b[0m\u001b[0;34m\u001b[0m\u001b[0;34m\u001b[0m\u001b[0m\n\u001b[0m\u001b[1;32m   1057\u001b[0m             \u001b[0;31m# Make sure that we get a last message telling us we are done\u001b[0m\u001b[0;34m\u001b[0m\u001b[0;34m\u001b[0m\u001b[0;34m\u001b[0m\u001b[0m\n\u001b[1;32m   1058\u001b[0m             \u001b[0melapsed_time\u001b[0m \u001b[0;34m=\u001b[0m \u001b[0mtime\u001b[0m\u001b[0;34m.\u001b[0m\u001b[0mtime\u001b[0m\u001b[0;34m(\u001b[0m\u001b[0;34m)\u001b[0m \u001b[0;34m-\u001b[0m \u001b[0mself\u001b[0m\u001b[0;34m.\u001b[0m\u001b[0m_start_time\u001b[0m\u001b[0;34m\u001b[0m\u001b[0;34m\u001b[0m\u001b[0m\n",
      "\u001b[0;32m/usr/local/lib/python3.6/dist-packages/joblib/parallel.py\u001b[0m in \u001b[0;36mretrieve\u001b[0;34m(self)\u001b[0m\n\u001b[1;32m    933\u001b[0m             \u001b[0;32mtry\u001b[0m\u001b[0;34m:\u001b[0m\u001b[0;34m\u001b[0m\u001b[0;34m\u001b[0m\u001b[0m\n\u001b[1;32m    934\u001b[0m                 \u001b[0;32mif\u001b[0m \u001b[0mgetattr\u001b[0m\u001b[0;34m(\u001b[0m\u001b[0mself\u001b[0m\u001b[0;34m.\u001b[0m\u001b[0m_backend\u001b[0m\u001b[0;34m,\u001b[0m \u001b[0;34m'supports_timeout'\u001b[0m\u001b[0;34m,\u001b[0m \u001b[0;32mFalse\u001b[0m\u001b[0;34m)\u001b[0m\u001b[0;34m:\u001b[0m\u001b[0;34m\u001b[0m\u001b[0;34m\u001b[0m\u001b[0m\n\u001b[0;32m--> 935\u001b[0;31m                     \u001b[0mself\u001b[0m\u001b[0;34m.\u001b[0m\u001b[0m_output\u001b[0m\u001b[0;34m.\u001b[0m\u001b[0mextend\u001b[0m\u001b[0;34m(\u001b[0m\u001b[0mjob\u001b[0m\u001b[0;34m.\u001b[0m\u001b[0mget\u001b[0m\u001b[0;34m(\u001b[0m\u001b[0mtimeout\u001b[0m\u001b[0;34m=\u001b[0m\u001b[0mself\u001b[0m\u001b[0;34m.\u001b[0m\u001b[0mtimeout\u001b[0m\u001b[0;34m)\u001b[0m\u001b[0;34m)\u001b[0m\u001b[0;34m\u001b[0m\u001b[0;34m\u001b[0m\u001b[0m\n\u001b[0m\u001b[1;32m    936\u001b[0m                 \u001b[0;32melse\u001b[0m\u001b[0;34m:\u001b[0m\u001b[0;34m\u001b[0m\u001b[0;34m\u001b[0m\u001b[0m\n\u001b[1;32m    937\u001b[0m                     \u001b[0mself\u001b[0m\u001b[0;34m.\u001b[0m\u001b[0m_output\u001b[0m\u001b[0;34m.\u001b[0m\u001b[0mextend\u001b[0m\u001b[0;34m(\u001b[0m\u001b[0mjob\u001b[0m\u001b[0;34m.\u001b[0m\u001b[0mget\u001b[0m\u001b[0;34m(\u001b[0m\u001b[0;34m)\u001b[0m\u001b[0;34m)\u001b[0m\u001b[0;34m\u001b[0m\u001b[0;34m\u001b[0m\u001b[0m\n",
      "\u001b[0;32m/usr/local/lib/python3.6/dist-packages/joblib/_parallel_backends.py\u001b[0m in \u001b[0;36mwrap_future_result\u001b[0;34m(future, timeout)\u001b[0m\n\u001b[1;32m    540\u001b[0m         AsyncResults.get from multiprocessing.\"\"\"\n\u001b[1;32m    541\u001b[0m         \u001b[0;32mtry\u001b[0m\u001b[0;34m:\u001b[0m\u001b[0;34m\u001b[0m\u001b[0;34m\u001b[0m\u001b[0m\n\u001b[0;32m--> 542\u001b[0;31m             \u001b[0;32mreturn\u001b[0m \u001b[0mfuture\u001b[0m\u001b[0;34m.\u001b[0m\u001b[0mresult\u001b[0m\u001b[0;34m(\u001b[0m\u001b[0mtimeout\u001b[0m\u001b[0;34m=\u001b[0m\u001b[0mtimeout\u001b[0m\u001b[0;34m)\u001b[0m\u001b[0;34m\u001b[0m\u001b[0;34m\u001b[0m\u001b[0m\n\u001b[0m\u001b[1;32m    543\u001b[0m         \u001b[0;32mexcept\u001b[0m \u001b[0mCfTimeoutError\u001b[0m \u001b[0;32mas\u001b[0m \u001b[0me\u001b[0m\u001b[0;34m:\u001b[0m\u001b[0;34m\u001b[0m\u001b[0;34m\u001b[0m\u001b[0m\n\u001b[1;32m    544\u001b[0m             \u001b[0;32mraise\u001b[0m \u001b[0mTimeoutError\u001b[0m \u001b[0;32mfrom\u001b[0m \u001b[0me\u001b[0m\u001b[0;34m\u001b[0m\u001b[0;34m\u001b[0m\u001b[0m\n",
      "\u001b[0;32m/usr/lib/python3.6/concurrent/futures/_base.py\u001b[0m in \u001b[0;36mresult\u001b[0;34m(self, timeout)\u001b[0m\n\u001b[1;32m    425\u001b[0m                 \u001b[0;32mreturn\u001b[0m \u001b[0mself\u001b[0m\u001b[0;34m.\u001b[0m\u001b[0m__get_result\u001b[0m\u001b[0;34m(\u001b[0m\u001b[0;34m)\u001b[0m\u001b[0;34m\u001b[0m\u001b[0;34m\u001b[0m\u001b[0m\n\u001b[1;32m    426\u001b[0m \u001b[0;34m\u001b[0m\u001b[0m\n\u001b[0;32m--> 427\u001b[0;31m             \u001b[0mself\u001b[0m\u001b[0;34m.\u001b[0m\u001b[0m_condition\u001b[0m\u001b[0;34m.\u001b[0m\u001b[0mwait\u001b[0m\u001b[0;34m(\u001b[0m\u001b[0mtimeout\u001b[0m\u001b[0;34m)\u001b[0m\u001b[0;34m\u001b[0m\u001b[0;34m\u001b[0m\u001b[0m\n\u001b[0m\u001b[1;32m    428\u001b[0m \u001b[0;34m\u001b[0m\u001b[0m\n\u001b[1;32m    429\u001b[0m             \u001b[0;32mif\u001b[0m \u001b[0mself\u001b[0m\u001b[0;34m.\u001b[0m\u001b[0m_state\u001b[0m \u001b[0;32min\u001b[0m \u001b[0;34m[\u001b[0m\u001b[0mCANCELLED\u001b[0m\u001b[0;34m,\u001b[0m \u001b[0mCANCELLED_AND_NOTIFIED\u001b[0m\u001b[0;34m]\u001b[0m\u001b[0;34m:\u001b[0m\u001b[0;34m\u001b[0m\u001b[0;34m\u001b[0m\u001b[0m\n",
      "\u001b[0;32m/usr/lib/python3.6/threading.py\u001b[0m in \u001b[0;36mwait\u001b[0;34m(self, timeout)\u001b[0m\n\u001b[1;32m    293\u001b[0m         \u001b[0;32mtry\u001b[0m\u001b[0;34m:\u001b[0m    \u001b[0;31m# restore state no matter what (e.g., KeyboardInterrupt)\u001b[0m\u001b[0;34m\u001b[0m\u001b[0;34m\u001b[0m\u001b[0m\n\u001b[1;32m    294\u001b[0m             \u001b[0;32mif\u001b[0m \u001b[0mtimeout\u001b[0m \u001b[0;32mis\u001b[0m \u001b[0;32mNone\u001b[0m\u001b[0;34m:\u001b[0m\u001b[0;34m\u001b[0m\u001b[0;34m\u001b[0m\u001b[0m\n\u001b[0;32m--> 295\u001b[0;31m                 \u001b[0mwaiter\u001b[0m\u001b[0;34m.\u001b[0m\u001b[0macquire\u001b[0m\u001b[0;34m(\u001b[0m\u001b[0;34m)\u001b[0m\u001b[0;34m\u001b[0m\u001b[0;34m\u001b[0m\u001b[0m\n\u001b[0m\u001b[1;32m    296\u001b[0m                 \u001b[0mgotit\u001b[0m \u001b[0;34m=\u001b[0m \u001b[0;32mTrue\u001b[0m\u001b[0;34m\u001b[0m\u001b[0;34m\u001b[0m\u001b[0m\n\u001b[1;32m    297\u001b[0m             \u001b[0;32melse\u001b[0m\u001b[0;34m:\u001b[0m\u001b[0;34m\u001b[0m\u001b[0;34m\u001b[0m\u001b[0m\n",
      "\u001b[0;31mKeyboardInterrupt\u001b[0m: "
     ]
    }
   ],
   "source": [
    "from sklearn.model_selection import GridSearchCV\n",
    "\n",
    "gs_clf=GridSearchCV(rf,random_grid, n_jobs=2)\n",
    "gs_clf.fit(X_train, y_train)"
   ]
  },
  {
   "cell_type": "code",
   "execution_count": 10,
   "metadata": {},
   "outputs": [
    {
     "name": "stderr",
     "output_type": "stream",
     "text": [
      "/usr/lib/python3/dist-packages/OpenSSL/crypto.py:12: CryptographyDeprecationWarning: Python 3.6 is no longer supported by the Python core team. Therefore, support for it is deprecated in cryptography and will be removed in a future release.\n",
      "  from cryptography import x509\n"
     ]
    }
   ],
   "source": [
    "from sklearn.base import BaseEstimator, TransformerMixin\n",
    "import numpy as np\n",
    "from gensim.models import Word2Vec, KeyedVectors, FastText, Doc2Vec\n",
    "from sklearn.preprocessing import LabelEncoder, OneHotEncoder, StandardScaler, MinMaxScaler, OrdinalEncoder\n",
    "from sklearn.feature_extraction.text import TfidfVectorizer\n",
    "from text_normalizer import normalize_corpus\n",
    "\n",
    "\n",
    "class Word2VecProcessor(TransformerMixin):\n",
    "    def fit(self, X, y=None):\n",
    "        model_w2v = Word2Vec(X, vector_size=100, workers=6, epochs=50, min_count=1)  \n",
    "        model_w2v.save('w2vec_model.txt')\n",
    "        \n",
    "        return self\n",
    "\n",
    "    def transform(self, X):\n",
    "        model = Word2Vec.load('w2vec_model.txt')\n",
    "        corpus_vectors=[]\n",
    "        for element in X:\n",
    "            main_vector=np.zeros([100,],)\n",
    "            for word in element:\n",
    "                sub_vector=model.wv[word]\n",
    "                main_vector=main_vector+ sub_vector\n",
    "            main_vector=main_vector/len(element)\n",
    "            corpus_vectors.append(main_vector)\n",
    "        return corpus_vectors\n",
    "\n",
    "class FastTextProcessor(TransformerMixin):\n",
    "    def fit(self, X, y=None):\n",
    "        model_ft = FastText(X, vector_size=100, workers=6, epochs=50, min_count=1)  \n",
    "        model_ft.save('fasttext_model.txt')\n",
    "        \n",
    "        return self\n",
    "\n",
    "    def transform(self, X):\n",
    "        model = FastText.load('fasttext_model.txt')\n",
    "        corpus_vectors=[]\n",
    "        for element in X:\n",
    "            main_vector=np.zeros([100,],)\n",
    "            for word in element:\n",
    "                sub_vector=model.wv[word]\n",
    "                main_vector=main_vector+ sub_vector\n",
    "            main_vector=main_vector/len(element)\n",
    "            corpus_vectors.append(main_vector)\n",
    "        return corpus_vectors\n",
    "\n",
    "\n",
    "class DropColumns(TransformerMixin):\n",
    "    \"\"\"This Transformer, receives a list of column names\n",
    "    as a parameter, which are the columns to be dropped.\"\"\"\n",
    "    def __init__(self, cols_to_drop):\n",
    "        self.cols_to_drop = cols_to_drop\n",
    "    def transform(self, X):\n",
    "        return X.drop(self.cols_to_drop, axis=1)\n",
    "\n",
    "    def fit(self, X, y=None):\n",
    "        return self\n",
    "\n",
    "class ColumnExtractor(TransformerMixin):\n",
    "    def __init__(self, columns):\n",
    "        self.columns = columns\n",
    "    def transform(self, X):\n",
    "        return X[self.columns]\n",
    "\n",
    "    def fit(self, X, y=None):\n",
    "        return self\n",
    "class MyOneHotEncoding(TransformerMixin):\n",
    "    def transform(self, X):\n",
    "        return pd.DataFrame(self.ohe.transform(X), columns = self.ohe_categories)\n",
    "\n",
    "    def fit(self, X, y=None):\n",
    "        self.ohe = OneHotEncoder(sparse=False).fit(X)\n",
    "        self.ohe_categories = self.ohe.categories_\n",
    "        return self \n",
    "        \n",
    "class NameDescriptionImputation(TransformerMixin):\n",
    "    def transform(self, X):\n",
    "        #X[\"name\"] = X[\"name\"].fillna(X[\"description\"])\n",
    "        X[\"name\"] = X[\"name\"].fillna(\"UNK\")\n",
    "        X[\"description\"] = X[\"description\"].fillna(\"UNK\")\n",
    "        return X\n",
    "\n",
    "    def fit(self, X_param, y=None):\n",
    "        return self\n",
    "\n",
    "class NameDescriptionNormalization(TransformerMixin):\n",
    "    def transform(self, X):\n",
    "        X[\"name\"] = normalize_corpus(list(X[\"name\"]))\n",
    "        X[\"description\"] = normalize_corpus(list(X[\"description\"]))\n",
    "        return X\n",
    "\n",
    "    def fit(self, X, y=None):\n",
    "        return self\n",
    "\n",
    "class TfidfVectorizerTransformer(TransformerMixin):\n",
    "    def transform(self, X):\n",
    "        return self.tfidf.transform(list(X.iloc[:,0]))\n",
    "\n",
    "    def fit(self, X, y=None):\n",
    "        self.tfidf = TfidfVectorizer(norm=None).fit(list(X.iloc[:,0]))\n",
    "        return self\n",
    "\n",
    "class OrdinalEncoding(TransformerMixin):\n",
    "    def fit(self, X, y=None):\n",
    "        self.enc = OrdinalEncoder(dtype='int')\n",
    "        self.enc.fit(X)\n",
    "        return self\n",
    "    \n",
    "    def transform(self, X):\n",
    "        aux = []\n",
    "        X = np.array(X)\n",
    "        X = X.reshape(-1,1)\n",
    "        aux = self.enc.transform(X)\n",
    "        #aux.value_counts()\n",
    "        return aux"
   ]
  },
  {
   "cell_type": "code",
   "execution_count": 19,
   "metadata": {},
   "outputs": [],
   "source": [
    "import pandas as pd\n",
    "import seaborn as sns\n",
    "import numpy as np\n",
    "import matplotlib.pyplot as plt\n",
    "pd.options.mode.chained_assignment = None\n",
    "import pickle\n",
    "\n",
    "# Transformers\n",
    "from sklearn.preprocessing import LabelEncoder, OneHotEncoder, StandardScaler, MinMaxScaler\n",
    "\n",
    "# Modeling Evaluation\n",
    "from sklearn.model_selection import train_test_split, cross_val_score, KFold, GridSearchCV\n",
    "from sklearn.metrics import accuracy_score, precision_score, recall_score,f1_score, confusion_matrix, classification_report\n",
    "from IPython.display import display, Markdown\n",
    "\n",
    "# Pipelines\n",
    "from sklearn.pipeline import Pipeline, FeatureUnion\n",
    "from sklearn.base import BaseEstimator, TransformerMixin\n",
    "from sklearn.compose import ColumnTransformer\n",
    "from sklearn.impute import SimpleImputer\n",
    "\n",
    "#liraries for NLP\n",
    "import os\n",
    "import sys\n",
    "# I had some issues importing files\n",
    "# This is how I addressed them:\n",
    "cwd = os.getcwd()\n",
    "add = \"/\".join(cwd.split(\"/\")[:-1])\n",
    "sys.path.append(add)\n",
    "\n",
    "from text_normalizer import normalize_corpus\n",
    "from sklearn.feature_extraction.text import TfidfVectorizer\n",
    "\n",
    "\n",
    "COLS_TO_DROP = ['sku','upc', 'shipping','manufacturer', 'model', 'url', 'image']\n",
    "pipe = Pipeline([\n",
    "    ('drop columns', DropColumns(COLS_TO_DROP)),\n",
    "    ('features', FeatureUnion([\n",
    "        ('price', Pipeline([\n",
    "            ('extract', ColumnExtractor([\"price\"])),\n",
    "            ('imputation', SimpleImputer(strategy=\"mean\")),\n",
    "            ('scaler', StandardScaler())\n",
    "        ])),\n",
    "        ('type', Pipeline([\n",
    "            ('extract', ColumnExtractor([\"type\"])),\n",
    "            ('imputation', SimpleImputer(strategy=\"most_frequent\")),\n",
    "            ('ohe', OneHotEncoder(drop='first'))\n",
    "        ])),\n",
    "        ('name and description', Pipeline([\n",
    "            ('extract', ColumnExtractor([\"name\",\"description\"])),#\"description\"])),\n",
    "            ('imputation', NameDescriptionImputation()),\n",
    "            ('text normalizer', NameDescriptionNormalization()),    \n",
    "            ('text vectorizer', TfidfVectorizerTransformer())\n",
    "        ]))\n",
    "    ]))\n",
    "])\n",
    "\n",
    "\n",
    "pipe_name = Pipeline([\n",
    "        ('name and description', Pipeline([\n",
    "            ('extract', ColumnExtractor([\"name\",\"description\"])),#\"description\"])),\n",
    "            ('imputation', NameDescriptionImputation()),\n",
    "            ('text normalizer', NameDescriptionNormalization()),    \n",
    "            #('text word2vec', Word2VecProcessor()) #('text vectorizer', TfidfVectorizerTransformer())\n",
    "            ('text vectorizer', TfidfVectorizerTransformer())\n",
    "        ]))\n",
    "])"
   ]
  },
  {
   "cell_type": "code",
   "execution_count": 12,
   "metadata": {},
   "outputs": [
    {
     "name": "stderr",
     "output_type": "stream",
     "text": [
      "/home/facurg96/.local/lib/python3.6/site-packages/bs4/__init__.py:439: MarkupResemblesLocatorWarning: The input looks more like a filename than markup. You may want to open this file and pass the filehandle into Beautiful Soup.\n",
      "  MarkupResemblesLocatorWarning\n",
      "/home/facurg96/.local/lib/python3.6/site-packages/bs4/__init__.py:439: MarkupResemblesLocatorWarning: The input looks more like a filename than markup. You may want to open this file and pass the filehandle into Beautiful Soup.\n",
      "  MarkupResemblesLocatorWarning\n",
      "/home/facurg96/.local/lib/python3.6/site-packages/bs4/__init__.py:439: MarkupResemblesLocatorWarning: The input looks more like a filename than markup. You may want to open this file and pass the filehandle into Beautiful Soup.\n",
      "  MarkupResemblesLocatorWarning\n"
     ]
    }
   ],
   "source": [
    "pipe.fit_transform(X_train, y_train)\n",
    "\n",
    "X_train_=pipe.transform(X_train)\n",
    "X_test_=pipe.transform(X_test)"
   ]
  },
  {
   "cell_type": "code",
   "execution_count": 22,
   "metadata": {},
   "outputs": [],
   "source": [
    "pipe_name.fit(X_train, y_train)\n",
    "\n",
    "X_train1=pipe_name.transform(X_train)\n",
    "X_test1=pipe_name.transform(X_test)"
   ]
  },
  {
   "cell_type": "code",
   "execution_count": 18,
   "metadata": {},
   "outputs": [
    {
     "data": {
      "text/plain": [
       "<36152x14833 sparse matrix of type '<class 'numpy.float64'>'\n",
       "\twith 324440 stored elements in Compressed Sparse Row format>"
      ]
     },
     "execution_count": 18,
     "metadata": {},
     "output_type": "execute_result"
    }
   ],
   "source": [
    "X_train_"
   ]
  },
  {
   "cell_type": "code",
   "execution_count": 23,
   "metadata": {},
   "outputs": [],
   "source": [
    "from sklearn.ensemble import RandomForestClassifier\n",
    "import wandb\n",
    "\n",
    "labels=list(enc.get_params())\n",
    "#wandb.init(project=\"my-test-project\")\n",
    "\n",
    "cl_rf = RandomForestClassifier(n_jobs=-1)\n",
    "cl_rf.fit(X_train1, y_train)\n",
    "y_preds = cl_rf.predict(X_test1)\n",
    "y_probas=cl_rf.predict_proba(X_test1)\n",
    "f1_score(y_test, y_preds, average=\"weighted\")\n",
    "micro=f1_score(y_test, y_preds, average=None)"
   ]
  },
  {
   "cell_type": "code",
   "execution_count": 24,
   "metadata": {},
   "outputs": [
    {
     "name": "stdout",
     "output_type": "stream",
     "text": [
      "0.8299440146278424\n",
      "[0.864      0.66666667 0.87037037 0.95867769 0.77777778 0.46153846\n",
      " 0.94634146 0.92857143 0.93023256 0.98913043 0.33684211 0.66666667\n",
      " 0.77777778 0.84848485 0.83333333 0.53658537 1.         0.96296296\n",
      " 0.96551724 0.95       0.84821429 0.82758621 0.90909091 0.6875\n",
      " 0.42857143 0.89655172 0.66666667 0.99200752 1.         0.72727273\n",
      " 0.79012346 0.93811075 0.79069767 1.         1.         0.95238095\n",
      " 0.82352941 0.88       0.76923077 0.68       0.81818182 0.96551724\n",
      " 0.88       0.57142857 0.66666667 0.52631579 0.88235294 0.66666667\n",
      " 1.         0.86666667 0.5        0.90410959 0.88659794 0.91358025\n",
      " 0.83333333 1.         0.91428571 0.85945946 0.26666667 0.68181818\n",
      " 1.         0.4        0.75       0.95384615 0.64       0.68181818\n",
      " 0.88888889 0.89655172 0.89411765 0.88       0.76923077 0.95172414\n",
      " 0.93333333 0.66666667 0.83333333 0.88888889 0.77777778 0.8\n",
      " 0.82608696 0.42857143 0.85714286 0.46153846 0.70967742 0.95652174\n",
      " 0.76       0.45454545 0.3        0.76190476 0.77272727 1.\n",
      " 0.88       0.64705882 0.86842105 0.9375     0.83168317 0.22222222\n",
      " 0.85245902 0.88       0.90196078 0.8372093  0.96078431 0.84042553\n",
      " 0.2962963  1.         0.63157895 0.74074074 0.75862069 0.63157895\n",
      " 0.34782609 0.75675676 0.80769231 0.98058252 0.76923077 0.83333333\n",
      " 1.         0.97777778 0.64       0.85714286 0.90196078 0.21052632\n",
      " 0.95652174 1.         1.         0.84057971 0.9009009  0.96\n",
      " 0.55319149 0.37037037 0.95652174 0.97297297 0.55555556 0.70588235\n",
      " 0.86486486 0.22222222 0.3        0.86486486 0.64       0.80916031\n",
      " 1.         0.97101449 0.91666667 0.9        0.60869565 0.57894737\n",
      " 0.14285714 0.30769231 0.68518519 0.72727273 0.27027027 0.88913043\n",
      " 0.92682927 1.         0.96907216 0.66666667 0.95652174 0.69230769\n",
      " 0.76923077 0.89588378 0.85714286 0.99470899 1.         0.72222222\n",
      " 0.66666667 0.37037037 0.46153846 0.77777778 0.46666667 0.18181818\n",
      " 0.7        0.75       0.7826087  0.75       0.93333333 0.625\n",
      " 0.79487179 0.72847682 0.86803519 0.83333333 0.97297297 0.73333333\n",
      " 0.93067426 0.35294118 0.9047619  0.76923077 0.94736842 0.75\n",
      " 0.73684211 0.76190476 0.625      0.71428571 0.97058824 0.64\n",
      " 0.83333333 0.57142857 0.85714286 0.28571429 0.66666667 0.55172414\n",
      " 0.97647059 0.9        0.63157895 0.95       0.74074074 0.68965517\n",
      " 0.25806452 0.75409836 0.75       0.23529412 0.8627451  1.\n",
      " 0.93333333 0.8627451  0.87719298 0.8        1.         0.8\n",
      " 0.33333333 0.86666667 0.5        0.5        0.90909091 0.92682927\n",
      " 0.96296296 0.91428571 0.57142857 0.47058824 0.91050584 1.\n",
      " 0.85714286 0.85       0.82758621 0.76190476 0.98536585 0.93150685\n",
      " 1.         0.94444444 0.80597015 0.91666667 1.         0.87850467\n",
      " 0.81081081 0.38095238 0.86956522 0.90265487 0.53333333 0.90909091\n",
      " 0.76616915 0.8627451  0.27272727 0.97435897 0.86842105 0.97435897\n",
      " 0.38095238 0.98360656 0.83870968 0.98412698 0.93877551 0.63636364\n",
      " 0.88888889 0.80597015 0.97297297 0.78431373 0.84210526 0.63157895\n",
      " 0.96774194 0.9047619  0.84615385 0.53333333 0.66666667 0.92307692\n",
      " 0.         0.91176471 0.71794872 0.76923077 0.88888889 0.88235294\n",
      " 0.98734177 0.86956522 0.89655172 0.58333333 0.53333333 0.87179487\n",
      " 0.92307692 0.76190476 0.64102564 0.6        0.9        0.72\n",
      " 0.69565217 0.625      0.5        0.94736842 0.78846154 0.21052632\n",
      " 1.         0.87142857 0.98876404 0.78125    0.96644295 0.90909091\n",
      " 0.81355932 0.42105263 0.77777778 0.875      0.76923077 0.52631579\n",
      " 0.85148515 0.80373832 0.91666667 0.47058824 0.94117647 0.90322581\n",
      " 0.78571429 0.45833333 0.70588235 0.67857143 0.50847458 0.95652174\n",
      " 0.76190476 0.375      0.84931507 0.61111111 0.97560976 0.92857143\n",
      " 0.75471698 0.46666667 0.84848485 0.8        0.84210526 0.73684211\n",
      " 0.44444444 0.93333333 0.22222222 0.8        0.67741935 1.\n",
      " 0.87179487 1.         0.79452055 0.3255814  0.79032258 0.99159664\n",
      " 0.77876106 0.81632653 1.         0.66666667 0.88888889 0.86956522\n",
      " 0.64       0.95238095 0.875      0.76996023]\n"
     ]
    }
   ],
   "source": [
    "print(f1_score(y_test, y_preds, average=\"weighted\"))\n",
    "print(micro)"
   ]
  },
  {
   "cell_type": "code",
   "execution_count": 25,
   "metadata": {},
   "outputs": [
    {
     "name": "stderr",
     "output_type": "stream",
     "text": [
      "/usr/local/lib/python3.6/dist-packages/seaborn/distributions.py:2619: FutureWarning: `distplot` is a deprecated function and will be removed in a future version. Please adapt your code to use either `displot` (a figure-level function with similar flexibility) or `histplot` (an axes-level function for histograms).\n",
      "  warnings.warn(msg, FutureWarning)\n"
     ]
    },
    {
     "data": {
      "text/plain": [
       "<AxesSubplot:ylabel='Density'>"
      ]
     },
     "execution_count": 25,
     "metadata": {},
     "output_type": "execute_result"
    },
    {
     "data": {
      "image/png": "[encoded data removed]",
      "text/plain": [
       "<Figure size 432x288 with 1 Axes>"
      ]
     },
     "metadata": {
      "needs_background": "light"
     },
     "output_type": "display_data"
    }
   ],
   "source": [
    "sns.distplot(micro)"
   ]
  },
  {
   "cell_type": "code",
   "execution_count": null,
   "metadata": {},
   "outputs": [],
   "source": []
  }
 ],
 "metadata": {
  "kernelspec": {
   "display_name": "Python 3.6.9 64-bit",
   "language": "python",
   "name": "python3"
  },
  "language_info": {
   "codemirror_mode": {
    "name": "ipython",
    "version": 3
   },
   "file_extension": ".py",
   "mimetype": "text/x-python",
   "name": "python",
   "nbconvert_exporter": "python",
   "pygments_lexer": "ipython3",
   "version": "3.6.9"
  },
  "orig_nbformat": 4,
  "vscode": {
   "interpreter": {
    "hash": "31f2aee4e71d21fbe5cf8b01ff0e069b9275f58929596ceb00d14d90e3e16cd6"
   }
  }
 },
 "nbformat": 4,
 "nbformat_minor": 2
}
